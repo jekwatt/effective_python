{
 "cells": [
  {
   "cell_type": "markdown",
   "metadata": {},
   "source": [
    "### Item 15: Know How Closures Interact with Variable Scope"
   ]
  },
  {
   "cell_type": "code",
   "execution_count": null,
   "metadata": {},
   "outputs": [],
   "source": [
    "def sort_priority(values, group): \n",
    "    def helper(x):\n",
    "        if x in group:\n",
    "            print (0, x)\n",
    "            return (0, x)  # 0 is priority group for sorting\n",
    "        print(1, x)\n",
    "        return (1, x)  # # 1 is normal group\n",
    "    values.sort(key=helper)"
   ]
  },
  {
   "cell_type": "code",
   "execution_count": null,
   "metadata": {},
   "outputs": [],
   "source": [
    "numbers = [8, 3, 1, 2, 5, 4, 7, 6]\n",
    "group = {2, 3, 5, 7}"
   ]
  },
  {
   "cell_type": "code",
   "execution_count": null,
   "metadata": {},
   "outputs": [],
   "source": [
    "sort_priority(numbers, group)"
   ]
  },
  {
   "cell_type": "code",
   "execution_count": null,
   "metadata": {},
   "outputs": [],
   "source": [
    "print(numbers)"
   ]
  },
  {
   "cell_type": "code",
   "execution_count": null,
   "metadata": {},
   "outputs": [],
   "source": [
    "print(group)"
   ]
  },
  {
   "cell_type": "markdown",
   "metadata": {},
   "source": [
    "1. Python supports closures: \n",
    "    * functions that refer to variables from the scope in which they were defined. \n",
    "    * This is why the helper function is able to access the group argument to sort_priority.\n",
    "\n",
    "2. Functions are first-class objects in Python, meaning \n",
    "    * you can refer to them directly, \n",
    "    * assign them to variables, \n",
    "    * pass them as arguments to other functions, \n",
    "    * compare them in expressions and if statements, etc. \n",
    "    * This is how the sort method can accept a closure function as the key argument.\n",
    "\n",
    "3. Python has specific rules for comparing tuples. \n",
    "    * It first compares items in index zero, then index one, then index two, and so on. \n",
    "    * This is why the return value from the helper closure causes the sort order to have two distinct groups.\n",
    "* There are three reasons why this function operates as expected:"
   ]
  },
  {
   "cell_type": "markdown",
   "metadata": {},
   "source": [
    "* It'd be nice if the function returned whether higher priority items were seen at all.\n",
    "* There is already a closure function for deciding which group each number is in.\n",
    "* Use the closure to flip a flag when high-priority items are seen.\n",
    "    * The function can return the flag value after it's been modified by the closure."
   ]
  },
  {
   "cell_type": "code",
   "execution_count": null,
   "metadata": {},
   "outputs": [],
   "source": [
    "def sort_priority2(numbers, group):\n",
    "    found = False  # scope: outer function (containing function)\n",
    "    def helper(x):\n",
    "        if x in group:\n",
    "            found = True  # scope: inner function (closure function)\n",
    "            return (0, x)\n",
    "        return (1, x)\n",
    "    numbers.sort(key=helper)\n",
    "    return found"
   ]
  },
  {
   "cell_type": "code",
   "execution_count": null,
   "metadata": {},
   "outputs": [],
   "source": [
    "found = sort_priority2(numbers, group)"
   ]
  },
  {
   "cell_type": "code",
   "execution_count": null,
   "metadata": {},
   "outputs": [],
   "source": [
    "found"
   ]
  },
  {
   "cell_type": "code",
   "execution_count": null,
   "metadata": {},
   "outputs": [],
   "source": [
    "print(numbers)"
   ]
  },
  {
   "cell_type": "markdown",
   "metadata": {},
   "source": [
    "* Problem 1 - `scoping bug`\n",
    "\n",
    "    * The sorted results are correct, but the found result is wrong.\n",
    "    * How could this happen?"
   ]
  },
  {
   "cell_type": "markdown",
   "metadata": {},
   "source": [
    "* When you reference a variable in an expression, \n",
    "the Python interpreter will traverse the scope to resolve the reference in this order:\n",
    "    1. The `current function’s scope`\n",
    "    2. Any `enclosing scopes` (like other `containing functions`)\n",
    "    3. The scope of the module that contains the code (also called the `global scope`) \n",
    "    4. The `built-in scope` (that contains functions like `len` and `str`)\n",
    "    \n",
    "* If none of these places have a defined variable with the referenced name, then a NameError exception is raised."
   ]
  },
  {
   "cell_type": "markdown",
   "metadata": {},
   "source": [
    "* Assigning a value to a variable works differently.\n",
    "* The `assignment behavior` explains the wrong return value of `sort_priority` fuction.\n",
    "    * The found variable is assigned to `True` in the `helper closure`.\n",
    "    * The `closure's assignment` is treated as a new variable definition within helper, not as an assignment within `wort_priority2`.\n"
   ]
  },
  {
   "cell_type": "markdown",
   "metadata": {},
   "source": [
    "#### Getting Data Out\n",
    "* In Python 3, there is a special syntax for getting data out of a closure.\n",
    "* The `nonlocal` statement makes it clear when data is being assigned out of a closure into another scope.\n",
    "* Limit: `nonlocal` won't traverse up to the module-level scope (to avoid polluting globals).\n",
    "* Do not use `nonlocal` for anything beyond simple functions.\n",
    "    * The side effects of `nonlocal` can be hard to follow."
   ]
  },
  {
   "cell_type": "code",
   "execution_count": null,
   "metadata": {},
   "outputs": [],
   "source": [
    "def sort_priority3(numbers, group):\n",
    "    found = False\n",
    "    def helper(x):\n",
    "        nonlocal found\n",
    "        if x in group:\n",
    "            found = True\n",
    "            return (0, x)\n",
    "        return(1, x)\n",
    "    numbers.sort(key=helper)\n",
    "    return found"
   ]
  },
  {
   "cell_type": "code",
   "execution_count": null,
   "metadata": {},
   "outputs": [],
   "source": [
    "sort_priority3(numbers, group)"
   ]
  },
  {
   "cell_type": "code",
   "execution_count": null,
   "metadata": {},
   "outputs": [],
   "source": [
    "print(numbers)"
   ]
  },
  {
   "cell_type": "markdown",
   "metadata": {},
   "source": [
    "#### Write a Class!\n",
    "* When the usage of `nonlocal` starts getting complicated, it's better to wrap the state in a helper class.\n",
    "* Define a class that achieves the same result as the `nonlocal` approach.\n",
    "    * It's a little longer, but is much easier to read."
   ]
  },
  {
   "cell_type": "code",
   "execution_count": null,
   "metadata": {},
   "outputs": [],
   "source": [
    "class Sorter(object):\n",
    "    def __init__(self, group):\n",
    "        self.group = group\n",
    "        self.found = False\n",
    "        \n",
    "    def __call__(self, x):\n",
    "        if x in self.group:\n",
    "            self.found = True\n",
    "            return (0, x)\n",
    "        return (1, x)    "
   ]
  },
  {
   "cell_type": "code",
   "execution_count": null,
   "metadata": {},
   "outputs": [],
   "source": [
    "sorter = Sorter(group)"
   ]
  },
  {
   "cell_type": "code",
   "execution_count": null,
   "metadata": {},
   "outputs": [],
   "source": [
    "numbers.sort(key=sorter)\n",
    "numbers"
   ]
  },
  {
   "cell_type": "code",
   "execution_count": null,
   "metadata": {},
   "outputs": [],
   "source": [
    "# sorter has two attributes (group & found)\n",
    "dir(sorter)"
   ]
  },
  {
   "cell_type": "code",
   "execution_count": null,
   "metadata": {},
   "outputs": [],
   "source": [
    "for x in sorter.group:\n",
    "    print(sorter.__call__(x))"
   ]
  },
  {
   "cell_type": "code",
   "execution_count": null,
   "metadata": {},
   "outputs": [],
   "source": [
    "sorter.group"
   ]
  },
  {
   "cell_type": "code",
   "execution_count": null,
   "metadata": {},
   "outputs": [],
   "source": [
    "sorter.found"
   ]
  },
  {
   "cell_type": "code",
   "execution_count": null,
   "metadata": {},
   "outputs": [],
   "source": [
    "assert sorter.found is True"
   ]
  },
  {
   "cell_type": "code",
   "execution_count": null,
   "metadata": {},
   "outputs": [],
   "source": [
    "numbers"
   ]
  },
  {
   "cell_type": "markdown",
   "metadata": {},
   "source": [
    "### Things to Remember"
   ]
  },
  {
   "cell_type": "markdown",
   "metadata": {},
   "source": [
    "* Closure functions can refer to variables from any of the scopes in which they were defined.\n",
    "* By default, closures can’t affect enclosing scopes by assigning variables.\n",
    "* In Python 3, use the nonlocal statement to indicate when a closure can modify a variable in its enclosing scopes.\n",
    "* Avoid using nonlocal statements for anything beyond simple functions."
   ]
  },
  {
   "cell_type": "code",
   "execution_count": null,
   "metadata": {},
   "outputs": [],
   "source": []
  }
 ],
 "metadata": {
  "kernelspec": {
   "display_name": "Python 3",
   "language": "python",
   "name": "python3"
  },
  "language_info": {
   "codemirror_mode": {
    "name": "ipython",
    "version": 3
   },
   "file_extension": ".py",
   "mimetype": "text/x-python",
   "name": "python",
   "nbconvert_exporter": "python",
   "pygments_lexer": "ipython3",
   "version": "3.8.2"
  }
 },
 "nbformat": 4,
 "nbformat_minor": 4
}

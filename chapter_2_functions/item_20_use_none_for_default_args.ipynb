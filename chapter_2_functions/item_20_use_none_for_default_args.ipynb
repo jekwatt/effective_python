{
 "cells": [
  {
   "cell_type": "markdown",
   "metadata": {},
   "source": [
    "### Item 20: Use None and Docstrings to Specify Dynamic default Arguments"
   ]
  },
  {
   "cell_type": "markdown",
   "metadata": {},
   "source": [
    "* Sometimes you need to use a non-static type as a `keyword` arguments' default value.\n",
    "\n",
    "    e.g \n",
    "    * Print logging messages that are marked with the time of the logged event.\n",
    "    * In the case that includes the time, the default arguments are to be reevaluated each time the function is called."
   ]
  },
  {
   "cell_type": "code",
   "execution_count": null,
   "metadata": {},
   "outputs": [],
   "source": [
    "from datetime import datetime\n",
    "from datetime import date\n",
    "import json\n",
    "from time import sleep"
   ]
  },
  {
   "cell_type": "code",
   "execution_count": null,
   "metadata": {},
   "outputs": [],
   "source": [
    "# dir(datetime)"
   ]
  },
  {
   "cell_type": "code",
   "execution_count": null,
   "metadata": {},
   "outputs": [],
   "source": [
    "now = datetime.now()\n",
    "now"
   ]
  },
  {
   "cell_type": "code",
   "execution_count": null,
   "metadata": {},
   "outputs": [],
   "source": [
    "def log(message, when=now):\n",
    "    print(f\"{when}: {message}\")"
   ]
  },
  {
   "cell_type": "code",
   "execution_count": null,
   "metadata": {},
   "outputs": [],
   "source": [
    "log(\"Hi there!\")"
   ]
  },
  {
   "cell_type": "code",
   "execution_count": null,
   "metadata": {},
   "outputs": [],
   "source": [
    "sleep(0.1)\n",
    "log(\"Hi again!\")"
   ]
  },
  {
   "cell_type": "markdown",
   "metadata": {},
   "source": [
    "* Problem 1\n",
    "\n",
    "    * The timestamps are the same because datetime.now is only executed a single time: when the function is defined.\n",
    "    * Default argument values are evaluated only once per module load, which usually happens when a program starts up.\n",
    "    * The convention for achieving the desired result in Python is to provide a default value of `None` and to ducument the actual behavior in the docsting.\n",
    "        * See `Item 49`: Write Docstrings for Every Function, Class, and Module.\n",
    "        * When the code sees an argument value of `None`, you allocate the `default value` accordingly."
   ]
  },
  {
   "cell_type": "code",
   "execution_count": null,
   "metadata": {},
   "outputs": [],
   "source": [
    "def log(message, when=None):\n",
    "    \"\"\"Log a message with a timestamp.\n",
    "    \n",
    "    Args:\n",
    "        message: Message to print.\n",
    "        when: detetime of when the message occurred.\n",
    "            Defaults to the present time.\n",
    "    \"\"\"\n",
    "    when = datetime.now() if when is None else when\n",
    "    print(f\"{when}: {message}\")"
   ]
  },
  {
   "cell_type": "markdown",
   "metadata": {},
   "source": [
    "* Now the timestamp is different"
   ]
  },
  {
   "cell_type": "code",
   "execution_count": null,
   "metadata": {},
   "outputs": [],
   "source": [
    "log(\"Hi there!\")\n",
    "sleep(0.1)\n",
    "log(\"Hi again!\")"
   ]
  },
  {
   "cell_type": "markdown",
   "metadata": {},
   "source": [
    "* Using `None` for default argument values is especially important when the arguments are mutable.\n",
    "\n",
    "    * Example: an empty dictionary to be returned by default"
   ]
  },
  {
   "cell_type": "code",
   "execution_count": null,
   "metadata": {},
   "outputs": [],
   "source": [
    "def decode(data, default={}):\n",
    "    try: \n",
    "        return json.loads(data)\n",
    "    except ValueError:\n",
    "        return default"
   ]
  },
  {
   "cell_type": "markdown",
   "metadata": {},
   "source": [
    "* Problem 2\n",
    "    * Same problem as the example above.\n",
    "    * Default argument values are only evaluated once (at module load time).\n",
    "    * The dictionary specified for default will be shared by all calls to decode.\n",
    "    * This can cause extremely surprising behavior."
   ]
  },
  {
   "cell_type": "code",
   "execution_count": null,
   "metadata": {},
   "outputs": [],
   "source": [
    "foo = decode('bad data')"
   ]
  },
  {
   "cell_type": "code",
   "execution_count": null,
   "metadata": {},
   "outputs": [],
   "source": [
    "foo['stuff'] = 5"
   ]
  },
  {
   "cell_type": "code",
   "execution_count": null,
   "metadata": {},
   "outputs": [],
   "source": [
    "bar = decode('also bad')"
   ]
  },
  {
   "cell_type": "code",
   "execution_count": null,
   "metadata": {},
   "outputs": [],
   "source": [
    "bar['meep'] = 1"
   ]
  },
  {
   "cell_type": "code",
   "execution_count": null,
   "metadata": {},
   "outputs": [],
   "source": [
    "print('Foo:', foo)\n",
    "print('Bar:', bar)"
   ]
  },
  {
   "cell_type": "markdown",
   "metadata": {},
   "source": [
    "* Expect two different dictionaries, each with a single key and value.\n",
    "* But modifying one seems to also modify the other.\n",
    "* The `foo` and `bar` are both equal to the default parameter.\n",
    "    * They are the same dictionary object."
   ]
  },
  {
   "cell_type": "code",
   "execution_count": null,
   "metadata": {},
   "outputs": [],
   "source": [
    "assert foo is bar"
   ]
  },
  {
   "cell_type": "markdown",
   "metadata": {},
   "source": [
    "#### The fix \n",
    "[important!]\n",
    "\n",
    "* To set the keyword argument `default` value to `None`.\n",
    "* And then document the behavior in the function's docstring."
   ]
  },
  {
   "cell_type": "code",
   "execution_count": null,
   "metadata": {},
   "outputs": [],
   "source": [
    "def decode(data, default=None):\n",
    "    \"\"\"Load JSON data from a string.\n",
    "    \n",
    "    Args:\n",
    "        data: JSON data to decode.\n",
    "        default: Value to return if docoding fails.\n",
    "            Defaults to an empty dictionary.\n",
    "    \"\"\"\n",
    "    if default is None:\n",
    "        default = {}\n",
    "    try:\n",
    "        return json.loads(data)\n",
    "    except ValueError:\n",
    "        return default"
   ]
  },
  {
   "cell_type": "markdown",
   "metadata": {},
   "source": [
    "* This produces the expected result"
   ]
  },
  {
   "cell_type": "code",
   "execution_count": null,
   "metadata": {},
   "outputs": [],
   "source": [
    "foo = decode('bad data')"
   ]
  },
  {
   "cell_type": "code",
   "execution_count": null,
   "metadata": {},
   "outputs": [],
   "source": [
    "foo['stuff'] = 5"
   ]
  },
  {
   "cell_type": "code",
   "execution_count": null,
   "metadata": {},
   "outputs": [],
   "source": [
    "bar = decode('also bad')"
   ]
  },
  {
   "cell_type": "code",
   "execution_count": null,
   "metadata": {},
   "outputs": [],
   "source": [
    "bar['meep'] = 1"
   ]
  },
  {
   "cell_type": "code",
   "execution_count": null,
   "metadata": {},
   "outputs": [],
   "source": [
    "print(\"Foo:\", foo)\n",
    "print(\"Bar:\", bar)"
   ]
  },
  {
   "cell_type": "markdown",
   "metadata": {},
   "source": [
    "### Things to Remember"
   ]
  },
  {
   "cell_type": "markdown",
   "metadata": {},
   "source": [
    "* `Default` arguments are only evaluated once: during function definition at module load time.\n",
    "    * This can cause odd behaviors for dynamic values (like {} or [])\n",
    "* Use `None` as the default value for `keyword` arguments that have a dynamic value.\n",
    "* document the actual `default` behavior in the function's docstring."
   ]
  },
  {
   "cell_type": "code",
   "execution_count": null,
   "metadata": {},
   "outputs": [],
   "source": []
  }
 ],
 "metadata": {
  "kernelspec": {
   "display_name": "Python 3",
   "language": "python",
   "name": "python3"
  },
  "language_info": {
   "codemirror_mode": {
    "name": "ipython",
    "version": 3
   },
   "file_extension": ".py",
   "mimetype": "text/x-python",
   "name": "python",
   "nbconvert_exporter": "python",
   "pygments_lexer": "ipython3",
   "version": "3.8.2"
  }
 },
 "nbformat": 4,
 "nbformat_minor": 4
}

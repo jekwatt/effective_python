{
 "cells": [
  {
   "cell_type": "markdown",
   "metadata": {},
   "source": [
    "## Item 17: Be Defensive When Iterating Over Arguments\n",
    "\n",
    "* When a function takes a list of objects as a parameter, it's often important to iterate over that list multiple times.\n",
    "* An iterator only produces its results a single time.\n",
    "* If you iterate over an iterator or generator that has already raised a StopIteration exception, you won't get any results the second time around."
   ]
  },
  {
   "cell_type": "code",
   "execution_count": null,
   "metadata": {},
   "outputs": [],
   "source": [
    "def normalize(numbers):\n",
    "    total = sum(numbers)\n",
    "    result = []\n",
    "    for value in numbers:\n",
    "        percent = 100 * value / total\n",
    "        result.append(percent)\n",
    "    return result"
   ]
  },
  {
   "cell_type": "code",
   "execution_count": null,
   "metadata": {},
   "outputs": [],
   "source": [
    "visits = [15, 35, 80]\n",
    "\n",
    "percentages = normalize(visits)\n",
    "percentages"
   ]
  },
  {
   "cell_type": "code",
   "execution_count": null,
   "metadata": {},
   "outputs": [],
   "source": [
    "# generator method\n",
    "\n",
    "def read_visits(data_path):\n",
    "    with open(data_path) as f:\n",
    "        for line in f:\n",
    "            yield int(line)"
   ]
  },
  {
   "cell_type": "markdown",
   "metadata": {},
   "source": [
    "* Problem 1\n",
    "\n",
    "Surprisingly, calling normalize on the generator's return value produces no results."
   ]
  },
  {
   "cell_type": "code",
   "execution_count": null,
   "metadata": {},
   "outputs": [],
   "source": [
    "INPUT_TXT_FILE = \"../data/my_numbers.txt\"\n",
    "\n",
    "it = read_visits(INPUT_TXT_FILE)\n",
    "percentages = normalize(it)\n",
    "print(percentages)"
   ]
  },
  {
   "cell_type": "code",
   "execution_count": null,
   "metadata": {},
   "outputs": [],
   "source": [
    "it = read_visits(INPUT_TXT_FILE)\n",
    "print(list(it))\n",
    "print(list(it))  # already exhaused"
   ]
  },
  {
   "cell_type": "raw",
   "metadata": {},
   "source": [
    "What's confusing is that you also won't get any errors when you iterate over and already exhaused iterator.\n",
    "\n",
    "for loops, the list constructor, and many other functions expect the StopIteration exception to be raised during normal operation.\n",
    "\n",
    "important!\n",
    "These functions can't tell the difference between an iterator that has no output and an iterator that had output and is now exhaused."
   ]
  },
  {
   "cell_type": "code",
   "execution_count": null,
   "metadata": {},
   "outputs": [],
   "source": [
    "# explicityly exhaust an input iterator and \n",
    "# keep a copy of its entire contents in a list\n",
    "\n",
    "def normalize_copy(numbers):\n",
    "    numbers = list(numbers)  # copy the iterator\n",
    "    total = sum(numbers)\n",
    "    result = []\n",
    "    for value in numbers:\n",
    "        percent = 100 * value / total\n",
    "        result.append(percent)\n",
    "    return result"
   ]
  },
  {
   "cell_type": "code",
   "execution_count": null,
   "metadata": {},
   "outputs": [],
   "source": [
    "it = read_visits(INPUT_TXT_FILE)\n",
    "percentages = normalize_copy(it)\n",
    "print(percentages)"
   ]
  },
  {
   "cell_type": "markdown",
   "metadata": {},
   "source": [
    "* Problem 2\n",
    "\n",
    "    * The copy of the input iterator's contents could be large.\n",
    "\n",
    "    * To get around this, accept a function (get_iter) that returns a new iterator each tine it's called.\n",
    "\n",
    "    * To use normalize_func, you can pass in a lambda expression that calls the generator and produces a new iterator each time."
   ]
  },
  {
   "cell_type": "code",
   "execution_count": null,
   "metadata": {},
   "outputs": [],
   "source": [
    "def normalize_func(get_iter):\n",
    "    total = sum(get_iter())  # new iterator\n",
    "    result = []\n",
    "    for value in get_iter():  # new iterator\n",
    "        percent = 100 * value / total\n",
    "        result.append(percent)\n",
    "    return result"
   ]
  },
  {
   "cell_type": "code",
   "execution_count": null,
   "metadata": {},
   "outputs": [],
   "source": [
    "percentages = normalize_func(lambda: read_visits(INPUT_TXT_FILE))"
   ]
  },
  {
   "cell_type": "code",
   "execution_count": null,
   "metadata": {},
   "outputs": [],
   "source": [
    "percentages"
   ]
  },
  {
   "cell_type": "markdown",
   "metadata": {},
   "source": [
    "* Problem 3\n",
    "    * Though it works, having to pass a lambda function like this is clumsy.\n",
    "    * The better way is to provide a new container class taht implements the iterator protocol.\n",
    "    * `for x in foo` will actually call `iter(foo)`\n",
    "    * The `iter` built-in function calls the `foo.__iter__` special method in return.\n",
    "    * Implement the `__iter__` method as a generator."
   ]
  },
  {
   "cell_type": "code",
   "execution_count": null,
   "metadata": {},
   "outputs": [],
   "source": [
    "# define an iterable container class\n",
    "\n",
    "class ReadVisits(object):\n",
    "    def __init__(self, data_path):\n",
    "        self.data_path = data_path\n",
    "    \n",
    "    def __iter__(self):\n",
    "        with open(self.data_path) as f:\n",
    "            for line in f:\n",
    "                yield int(line)"
   ]
  },
  {
   "cell_type": "code",
   "execution_count": null,
   "metadata": {},
   "outputs": [],
   "source": [
    "visits = ReadVisits(INPUT_TXT_FILE)\n",
    "percentages = normalize(visits)\n",
    "percentages"
   ]
  },
  {
   "cell_type": "markdown",
   "metadata": {},
   "source": [
    "* Problem 4\n",
    "    * An iterator is passed to the `iter` built-in function, `iter` will return the iterator itself.\n",
    "    * When a container type is passed to iter, a new iterator object will be returned each time.\n",
    "    * Test an input value for this vehavior ad raise a `TypeError` to reject iterators."
   ]
  },
  {
   "cell_type": "code",
   "execution_count": null,
   "metadata": {},
   "outputs": [],
   "source": [
    "# ideal if don't want to copy the full input iterator\n",
    "# also need to iterate over the input data multiple times.\n",
    "\n",
    "def normalize_defensive(numbers):\n",
    "    if iter(numbers) is iter(numbers):  # an iterator -- bad!\n",
    "        raise TypeError('Must supply a container')\n",
    "    total = sum(numbers)\n",
    "    result = []\n",
    "    for value in numbers:\n",
    "        percent = 100 * value / total\n",
    "        result.append(percent)\n",
    "    return result"
   ]
  },
  {
   "cell_type": "code",
   "execution_count": null,
   "metadata": {},
   "outputs": [],
   "source": [
    "normalize_defensive(visits)"
   ]
  },
  {
   "cell_type": "code",
   "execution_count": null,
   "metadata": {},
   "outputs": [],
   "source": [
    "visits = ReadVisits(INPUT_TXT_FILE)\n",
    "normalize_defensive(visits)"
   ]
  },
  {
   "cell_type": "code",
   "execution_count": null,
   "metadata": {},
   "outputs": [],
   "source": [
    "it = iter(visits)\n",
    "normalize_defensive(it)"
   ]
  },
  {
   "cell_type": "markdown",
   "metadata": {},
   "source": [
    "### Things to Remember\n",
    "\n",
    "* Beware of functions taht iterate over input arguments multiple times.\n",
    "* Python's iterator protocol defines how `containers` and `iterators` interact with the `iter` and `next` built-in function.\n",
    "* You can easily define your won iterable container type by implementing the `__iter__` method as a generator.\n",
    "* You can detect atha a value is an iterator (instead of a container) if calling iter on it rwice productes the same result.\n",
    "* Then progress with the `next` built-in function."
   ]
  },
  {
   "cell_type": "code",
   "execution_count": null,
   "metadata": {},
   "outputs": [],
   "source": []
  }
 ],
 "metadata": {
  "kernelspec": {
   "display_name": "Python 3",
   "language": "python",
   "name": "python3"
  },
  "language_info": {
   "codemirror_mode": {
    "name": "ipython",
    "version": 3
   },
   "file_extension": ".py",
   "mimetype": "text/x-python",
   "name": "python",
   "nbconvert_exporter": "python",
   "pygments_lexer": "ipython3",
   "version": "3.8.2"
  }
 },
 "nbformat": 4,
 "nbformat_minor": 4
}

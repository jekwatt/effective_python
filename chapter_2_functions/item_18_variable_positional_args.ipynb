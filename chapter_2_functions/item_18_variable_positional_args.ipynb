{
 "cells": [
  {
   "cell_type": "markdown",
   "metadata": {},
   "source": [
    "### Item 18: Reduce Visual Noise with Variable Positional Arguments\n",
    "\n",
    "* Accepting optional positional arguments `*args` can make a function call more clear and remove visual noise.\n",
    "    * Often called `star args` i reference to the conventional name for the parameter, `*args`.\n",
    "    * Also called `splat`"
   ]
  },
  {
   "cell_type": "code",
   "execution_count": null,
   "metadata": {},
   "outputs": [],
   "source": [
    "def log(message, values):  # list of values\n",
    "    if not values:\n",
    "        print(message)\n",
    "    else:\n",
    "        values_str = ', '.join(str(x) for x in values)\n",
    "        print(f'{message}: {values_str}')   "
   ]
  },
  {
   "cell_type": "code",
   "execution_count": null,
   "metadata": {},
   "outputs": [],
   "source": [
    "log('My numbers are', [1, 2])"
   ]
  },
  {
   "cell_type": "code",
   "execution_count": null,
   "metadata": {},
   "outputs": [],
   "source": [
    "log('Hi there', [])"
   ]
  },
  {
   "cell_type": "markdown",
   "metadata": {},
   "source": [
    "* Having to pass an empty list when you have no values to log is cumbersome and noisy. \n",
    "* It’d be better to leave out the second argument entirely. \n",
    "* You can do this in Python by prefixing the last positional parameter name with `*`."
   ]
  },
  {
   "cell_type": "code",
   "execution_count": null,
   "metadata": {},
   "outputs": [],
   "source": [
    "# the first parameter for the log message is required,\n",
    "# subsequent positional arguments are optional\n",
    "\n",
    "def log(message, *values):  # The only difference\n",
    "    if not values:\n",
    "        print(message)\n",
    "    else:\n",
    "        values_str = ', '.join(str(x) for x in values)\n",
    "        print(f'{message}: {values_str}')   "
   ]
  },
  {
   "cell_type": "code",
   "execution_count": null,
   "metadata": {},
   "outputs": [],
   "source": [
    "log('My numbers are', [1, 2])"
   ]
  },
  {
   "cell_type": "code",
   "execution_count": null,
   "metadata": {},
   "outputs": [],
   "source": [
    "log('Hi there')  # Much better"
   ]
  },
  {
   "cell_type": "code",
   "execution_count": null,
   "metadata": {},
   "outputs": [],
   "source": [
    "favorites = [7, 33, 99]\n",
    "log('Favorite colors', *favorites)"
   ]
  },
  {
   "cell_type": "markdown",
   "metadata": {},
   "source": [
    "* Problem 1"
   ]
  },
  {
   "cell_type": "markdown",
   "metadata": {},
   "source": [
    "* There are two problems with accepting a variable number of positional arguments.\n",
    "    * The variable arguments are always turned into a tuple before they are passed to your function.\n",
    "    * You can’t add new positional arguments to your function in the future without migrating every caller."
   ]
  },
  {
   "cell_type": "code",
   "execution_count": null,
   "metadata": {},
   "outputs": [],
   "source": [
    "def my_generator():\n",
    "    for i in range(10):\n",
    "        yield i"
   ]
  },
  {
   "cell_type": "code",
   "execution_count": null,
   "metadata": {},
   "outputs": [],
   "source": [
    "def my_func(*args):\n",
    "    print(args)"
   ]
  },
  {
   "cell_type": "code",
   "execution_count": null,
   "metadata": {},
   "outputs": [],
   "source": [
    "it = my_generator()\n",
    "my_func(*it)"
   ]
  },
  {
   "cell_type": "code",
   "execution_count": null,
   "metadata": {},
   "outputs": [],
   "source": [
    "def log(sequence, message, *values):\n",
    "    if not values:\n",
    "        print(f'{sequence}: {message}: ')\n",
    "    else:\n",
    "        values_str = ', '.join(str(x) for x in values)\n",
    "        print(f'{sequence}: {message}: {values_str}')"
   ]
  },
  {
   "cell_type": "code",
   "execution_count": null,
   "metadata": {},
   "outputs": [],
   "source": [
    "# new usage is OK\n",
    "log(1, 'Favorites', 7, 33)"
   ]
  },
  {
   "cell_type": "code",
   "execution_count": null,
   "metadata": {},
   "outputs": [],
   "source": [
    "# old usage breaks\n",
    "log('Favorite numbers', 7, 33)"
   ]
  },
  {
   "cell_type": "markdown",
   "metadata": {},
   "source": [
    "* Problem 2"
   ]
  },
  {
   "cell_type": "markdown",
   "metadata": {},
   "source": [
    "* The problem here is that the second call to log used 7 as the message parameter because a sequence argument wasn’t given. \n",
    "    * Bugs like this are hard to track down because the code still runs without raising any exceptions. \n",
    "* To avoid this possibility entirely, you should use keyword-only arguments when you want to extend functions that accept `*args`.\n",
    "    * See `Item 21`: Enforce Clarity with Keywork-Only Arguments."
   ]
  },
  {
   "cell_type": "markdown",
   "metadata": {},
   "source": [
    "### Things to Remember"
   ]
  },
  {
   "cell_type": "markdown",
   "metadata": {},
   "source": [
    "* Functions can accept a variable number of positional arguments by using `*args` in the def statement.\n",
    "* You can use the items from a sequence as the positional arguments for a function with the `*` operator.\n",
    "* Using the `*` operator with a generator may cause your program to run out of memory and crash.\n",
    "* Adding new positional parameters to functions that accept `*args` can introduce hard-to-find bugs."
   ]
  },
  {
   "cell_type": "code",
   "execution_count": null,
   "metadata": {},
   "outputs": [],
   "source": []
  }
 ],
 "metadata": {
  "kernelspec": {
   "display_name": "Python 3",
   "language": "python",
   "name": "python3"
  },
  "language_info": {
   "codemirror_mode": {
    "name": "ipython",
    "version": 3
   },
   "file_extension": ".py",
   "mimetype": "text/x-python",
   "name": "python",
   "nbconvert_exporter": "python",
   "pygments_lexer": "ipython3",
   "version": "3.8.2"
  }
 },
 "nbformat": 4,
 "nbformat_minor": 4
}

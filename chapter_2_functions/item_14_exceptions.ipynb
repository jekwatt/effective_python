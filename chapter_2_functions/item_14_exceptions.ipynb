{
 "cells": [
  {
   "cell_type": "markdown",
   "metadata": {},
   "source": [
    "## Item 14: Prefer Exceptions to Returning None"
   ]
  },
  {
   "cell_type": "markdown",
   "metadata": {},
   "source": [
    "* When writing utility functions, there's draw to give special meaning to the return value of None.\n",
    "* It seems to makes sense in some cases."
   ]
  },
  {
   "cell_type": "code",
   "execution_count": null,
   "metadata": {},
   "outputs": [],
   "source": [
    "def divide(x, y):\n",
    "    try:\n",
    "        return x / y\n",
    "    except ZeroDivisionError:\n",
    "        return None"
   ]
  },
  {
   "cell_type": "markdown",
   "metadata": {},
   "source": [
    "* Code using this function can interpret the return value accordingly."
   ]
  },
  {
   "cell_type": "code",
   "execution_count": null,
   "metadata": {},
   "outputs": [],
   "source": [
    "x, y = 0, 5\n",
    "\n",
    "result = divide(x, y)\n",
    "result"
   ]
  },
  {
   "cell_type": "markdown",
   "metadata": {},
   "source": [
    "* What happens when the numerator is `zero`?\n",
    "* That will cause the return value to also be zero (if the denominator is `non-zero`)\n",
    "* This can cause problmes when you evaluate the result in a condition like an `if` statement\n",
    "* You may accidentally look for any `False` equivalent value to indicate errors instread of only looking for `None`."
   ]
  },
  {
   "cell_type": "code",
   "execution_count": null,
   "metadata": {},
   "outputs": [],
   "source": [
    "if not result:\n",
    "    print(\"Invalid inputs\")  # This is wrong!"
   ]
  },
  {
   "cell_type": "code",
   "execution_count": null,
   "metadata": {},
   "outputs": [],
   "source": [
    "def divide(x, y):\n",
    "    try:\n",
    "        return True, x / y\n",
    "    except ZeroDivisionError:\n",
    "        return False, None"
   ]
  },
  {
   "cell_type": "code",
   "execution_count": null,
   "metadata": {},
   "outputs": [],
   "source": [
    "x, y = 0, 5\n",
    "\n",
    "success, result = divide(x, y)\n",
    "if not success:\n",
    "    print(\"Invalid inputs\")"
   ]
  },
  {
   "cell_type": "markdown",
   "metadata": {},
   "source": [
    "* The second, better way to reduce these errors is to never return None at all.\n",
    "* Instead, raise an exception up to the caller and make them deal with it."
   ]
  },
  {
   "cell_type": "code",
   "execution_count": null,
   "metadata": {},
   "outputs": [],
   "source": [
    "_, result = divide(x, y) \n",
    "if not result:\n",
    "    print(\"Invalid inputs\")"
   ]
  },
  {
   "cell_type": "markdown",
   "metadata": {},
   "source": [
    "* Turn a ZeroDivisionError into a ValueError to indicate to the caller that the input values are bad."
   ]
  },
  {
   "cell_type": "code",
   "execution_count": null,
   "metadata": {},
   "outputs": [],
   "source": [
    "def divide(a, b):\n",
    "    try:\n",
    "        return a / b\n",
    "    except ZeroDivisionError as e:\n",
    "        raise ValueError('Invalid inputs') from e"
   ]
  },
  {
   "cell_type": "markdown",
   "metadata": {},
   "source": [
    "* Now the caller should handle the exception for the invalid input case.\n",
    "* The caller no longer requires a condition on the return of the function.\n",
    "* If the function didn't raise an exception, the return value must be good.\n",
    "* The outcome of exception handling is clear."
   ]
  },
  {
   "cell_type": "code",
   "execution_count": null,
   "metadata": {},
   "outputs": [],
   "source": [
    "x, y = 0, 5\n",
    "x, y = 5, 0\n",
    "x, y = 5, 2\n",
    "\n",
    "try:\n",
    "    result = divide(x, y)\n",
    "except ValueError:\n",
    "    print('Invalid inputs')\n",
    "else:\n",
    "    # f\"result: {value:{width}.{precision}}\"\n",
    "    print(f'Result is {result:0.2f}')"
   ]
  },
  {
   "cell_type": "markdown",
   "metadata": {},
   "source": [
    "### Things to Remember"
   ]
  },
  {
   "cell_type": "markdown",
   "metadata": {},
   "source": [
    "* Functions that return `None` to indicate special meaning are error prone because `None` and other values (e.g., `zero`, the `empty string`) all evaluate to `False` in conditional expressions.\n",
    "* Raise exceptions to indicate special situations instead of returning `None`. \n",
    "* Expect the calling code to handle exceptions properly when they’re documented."
   ]
  },
  {
   "cell_type": "code",
   "execution_count": null,
   "metadata": {},
   "outputs": [],
   "source": []
  }
 ],
 "metadata": {
  "kernelspec": {
   "display_name": "Python 3",
   "language": "python",
   "name": "python3"
  },
  "language_info": {
   "codemirror_mode": {
    "name": "ipython",
    "version": 3
   },
   "file_extension": ".py",
   "mimetype": "text/x-python",
   "name": "python",
   "nbconvert_exporter": "python",
   "pygments_lexer": "ipython3",
   "version": "3.8.2"
  }
 },
 "nbformat": 4,
 "nbformat_minor": 4
}

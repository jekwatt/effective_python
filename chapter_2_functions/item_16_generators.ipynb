{
 "cells": [
  {
   "cell_type": "markdown",
   "metadata": {},
   "source": [
    "## Item 16: Consider Generators Instead of Returning Lists"
   ]
  },
  {
   "cell_type": "markdown",
   "metadata": {},
   "source": [
    "* Generator functions do not actually run but instead immediately return an iterator.\n",
    "* With each call to the next built-in function, the iterator will advance the generator to its next yield expression.\n",
    "* Each value passed to yield by the generator will be returned by the iterator to the caller."
   ]
  },
  {
   "cell_type": "markdown",
   "metadata": {},
   "source": [
    "### Simple function"
   ]
  },
  {
   "cell_type": "code",
   "execution_count": null,
   "metadata": {},
   "outputs": [],
   "source": [
    "# simple function using append method\n",
    "\n",
    "def index_words(text):\n",
    "    results = []\n",
    "    if text:\n",
    "        results.append(0)\n",
    "    for i, letter in enumerate(text):\n",
    "        if letter == ' ':\n",
    "            results.append(i + 1)\n",
    "    return results          "
   ]
  },
  {
   "cell_type": "code",
   "execution_count": null,
   "metadata": {},
   "outputs": [],
   "source": [
    "# input text\n",
    "address = \"Four score and seven years ago...\""
   ]
  },
  {
   "cell_type": "code",
   "execution_count": null,
   "metadata": {},
   "outputs": [],
   "source": [
    "res = index_words(address)\n",
    "res"
   ]
  },
  {
   "cell_type": "markdown",
   "metadata": {},
   "source": [
    "* Problem 1"
   ]
  },
  {
   "cell_type": "markdown",
   "metadata": {},
   "source": [
    "* The code is a bit dense and noisy\n",
    "    * Each time a new result is found, I call the append method.\n",
    "    * There is one line for creating the result list and another for returning it.\n",
    "    * A better way to write this function is using a generator.\n",
    "\n",
    "\n",
    "* It requires all results to be stored in the list before being returned\n",
    "    * For huge inputs, this can cause your program to run out of memory and crash."
   ]
  },
  {
   "cell_type": "markdown",
   "metadata": {},
   "source": [
    "### Better way using a generator"
   ]
  },
  {
   "cell_type": "markdown",
   "metadata": {},
   "source": [
    "* Generator functions do not actually run but instead immediately return an iterator.\n",
    "* With each call to the next built-in function, the iterator will advance the generator to its next yield expression.\n",
    "* Each value passed to yield by the generator will be returned by the iterator to the caller."
   ]
  },
  {
   "cell_type": "code",
   "execution_count": null,
   "metadata": {},
   "outputs": [],
   "source": [
    "# easier to read; all interactions with the result list have been eliminated\n",
    "def index_words_iter(text):\n",
    "    if text:\n",
    "        yield 0\n",
    "    for i, letter in enumerate(text):\n",
    "        if letter == ' ':\n",
    "            yield i + 1"
   ]
  },
  {
   "cell_type": "code",
   "execution_count": null,
   "metadata": {},
   "outputs": [],
   "source": [
    "index_words_iter(address)"
   ]
  },
  {
   "cell_type": "code",
   "execution_count": null,
   "metadata": {},
   "outputs": [],
   "source": [
    "res_2 = list(index_words_iter(address))"
   ]
  },
  {
   "cell_type": "code",
   "execution_count": null,
   "metadata": {},
   "outputs": [],
   "source": [
    "res_2"
   ]
  },
  {
   "cell_type": "code",
   "execution_count": null,
   "metadata": {},
   "outputs": [],
   "source": [
    "iter(res_2)"
   ]
  },
  {
   "cell_type": "markdown",
   "metadata": {},
   "source": [
    "* Problem 2\n",
    "\n",
    "    * It requires all results to be stored in the list before being returned.\n",
    "    * For huge inputs, this can cause progran to run out of memory and crash."
   ]
  },
  {
   "cell_type": "markdown",
   "metadata": {},
   "source": [
    "### generator that streams input from a file"
   ]
  },
  {
   "cell_type": "markdown",
   "metadata": {},
   "source": [
    "* The working memory for this function is bounded to the maximum length of line line of input."
   ]
  },
  {
   "cell_type": "code",
   "execution_count": null,
   "metadata": {},
   "outputs": [],
   "source": [
    "def index_file(f):\n",
    "    \"\"\"\n",
    "    A generator that streams input from a file one line at a time\n",
    "    and yields outputs one word at a time\n",
    "    \"\"\"\n",
    "    offset = 0\n",
    "    for line in f:\n",
    "        if line:\n",
    "            yield offset\n",
    "        for letter in line:\n",
    "            offset += 1\n",
    "            if letter == ' ':\n",
    "                yield offset    "
   ]
  },
  {
   "cell_type": "code",
   "execution_count": null,
   "metadata": {},
   "outputs": [],
   "source": [
    "f = \"../data/address.txt\""
   ]
  },
  {
   "cell_type": "code",
   "execution_count": null,
   "metadata": {},
   "outputs": [],
   "source": [
    "# the iterator returned are stateful and can't be reused\n",
    "\n",
    "with open(f) as f:\n",
    "    it = index_file(f)\n",
    "    res = iter(it)\n",
    "    print(list(res))"
   ]
  },
  {
   "cell_type": "markdown",
   "metadata": {},
   "source": [
    "### Things to Remember"
   ]
  },
  {
   "cell_type": "markdown",
   "metadata": {},
   "source": [
    "* Using generators can be clearer than the alternative of returning lists of accumulated results.\n",
    "* The iterator returned by a generator produces the set of values passed to yield expressions within the generator function’s body.\n",
    "* Generators can produce a sequence of outputs for arbitrarily large inputs because their working memory doesn’t include all inputs and outputs."
   ]
  },
  {
   "cell_type": "code",
   "execution_count": null,
   "metadata": {},
   "outputs": [],
   "source": []
  }
 ],
 "metadata": {
  "kernelspec": {
   "display_name": "Python 3",
   "language": "python",
   "name": "python3"
  },
  "language_info": {
   "codemirror_mode": {
    "name": "ipython",
    "version": 3
   },
   "file_extension": ".py",
   "mimetype": "text/x-python",
   "name": "python",
   "nbconvert_exporter": "python",
   "pygments_lexer": "ipython3",
   "version": "3.8.2"
  }
 },
 "nbformat": 4,
 "nbformat_minor": 4
}

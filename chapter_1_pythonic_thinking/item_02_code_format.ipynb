{
 "cells": [
  {
   "cell_type": "markdown",
   "metadata": {},
   "source": [
    "### Item 2: Follow the PEP 8 Style Guide"
   ]
  },
  {
   "cell_type": "markdown",
   "metadata": {},
   "source": [
    "* Python Enhancement Proposal #8, otherwise known as PEP 8, is the style guide for how to format Python code.\n",
    "* Using a consistent style makes your code more approachable and easier to read. \n",
    "* Sharing a common style with other Python programmers facilitates on collaboration on projects.\n",
    "* Even if you are the only one who will ever read your code, following the style guide makes it easier to modify your own code later.\n",
    "\n",
    "http://www.python.org/dev/pep-0008"
   ]
  },
  {
   "cell_type": "markdown",
   "metadata": {},
   "source": [
    "#### Whitespace: In Python, whitespace is syntactically significant (code clarity)\n",
    "\n",
    "* Use spaces instead of tabs for indentation.\n",
    "\n",
    "* Uee four spaces for each level of syntactically significant indenting.\n",
    "\n",
    "* Lines should be 79 characters in length or less.\n",
    "\n",
    "* Continuations of long expressions into additional lines should be indented by four extra spaces from their normal indentation level.\n",
    "\n",
    "* In a file, functions and classes should be separated by two blank lines.\n",
    "\n",
    "* In a class, methods should be separated by one blank line.\n",
    "\n",
    "* Don't put spaces around list indexes, function calls, or keyword arguments.\n",
    "\n",
    "* Put one-and only one-space before and after variable assignments."
   ]
  },
  {
   "cell_type": "markdown",
   "metadata": {},
   "source": [
    "#### Naming:\n",
    "\n",
    "* Functions, variables, and attributes shold be in lowercase_underscore format (snakecase).\n",
    "\n",
    "* Protected instance attributes should be in _leading_underscore format.\n",
    "\n",
    "* Private instance attributes should be in __double_keading_underscore format.\n",
    "\n",
    "* Classes and exceptions should be in CapitalizedWord format.\n",
    "\n",
    "* Module-level constants should be ALL_CAPS format.\n",
    "\n",
    "* Instance methods in classes should use self as the name of the first parameter (which refers to the object).\n",
    "\n",
    "* Class methods should use cls as the name of the first parameter (which refers to the class)."
   ]
  },
  {
   "cell_type": "markdown",
   "metadata": {},
   "source": [
    "#### Expressions and Statements?\n",
    "\n",
    "The Zen of Python states \"There should be one-and preferable only one-obvious way to do it\".\n",
    "    \n",
    "* Use inline negation instead of negation of positive expressions:\n",
    "    * (if a is not b) instead of (if not a is b)\n",
    "    \n",
    "    \n",
    "* Don't check for empty values (like [] or ''):\n",
    "    * if len(some_list) == 0  # don't do this\n",
    "    * if not some_list:  # do this, assume empty values implicitly evaluate to False\n",
    "        \n",
    "        \n",
    "* The same things goes for non-empty values(like [1] or 'hi':\n",
    "    * if some_list: # do this, implicitly True for non-empty values\n",
    "        \n",
    "        \n",
    "* Avoid single-line if statements, for and while loops, and except compound statements.\n",
    "    * Spread these over multiple lines for calrity.\n",
    "    \n",
    "    \n",
    "* Always put import statements at the top of a file.\n",
    "\n",
    "\n",
    "* Always use absolute names for modules when importing them, not names relative to the current module's own path:\n",
    "    * from bar import foo\n",
    "    \n",
    "    \n",
    "* If you must do relative imports, use the explicit syntax:\n",
    "    * from . import foo\n",
    "    \n",
    "    \n",
    "* Imports should be in sections in the following order:\n",
    "    * standard library modules\n",
    "    * third-party modules\n",
    "    * your own modules\n",
    "    * each subsection should have imports in alphabetical order"
   ]
  },
  {
   "cell_type": "code",
   "execution_count": null,
   "metadata": {},
   "outputs": [],
   "source": [
    "#!/usr/bin/env python3\n",
    "\n",
    "\"\"\"\n",
    "Order of imports\n",
    "\"\"\"\n",
    "\n",
    "# First come standard libraries, in alphabetical order\n",
    "\n",
    "# After a blank line, import third-party libraries\n",
    "\n",
    "# After another blank line, import local libraries\n"
   ]
  },
  {
   "cell_type": "markdown",
   "metadata": {},
   "source": [
    "#### Pylint tool\n",
    "\n",
    "* Popular static analyzer for Python source code.\n",
    "* Pyliint provides automated enforcement of the PEP 8 style guide and detects many other types of common errors in Python programs.\n",
    "\n",
    "http://www.pylint.org"
   ]
  },
  {
   "cell_type": "markdown",
   "metadata": {},
   "source": [
    "#### Black\n",
    "\n",
    "* By using Black, you agree to cede control over minutiae of hand-formatting.\n",
    "* This vastly improves the formatting of the code.\n",
    "* Formatting becomes transparent after a while and you can focus on the content instead.\n",
    "\n",
    "https://black.readthedocs.io/en/stable/"
   ]
  },
  {
   "cell_type": "code",
   "execution_count": null,
   "metadata": {},
   "outputs": [],
   "source": []
  }
 ],
 "metadata": {
  "kernelspec": {
   "display_name": "Python 3",
   "language": "python",
   "name": "python3"
  },
  "language_info": {
   "codemirror_mode": {
    "name": "ipython",
    "version": 3
   },
   "file_extension": ".py",
   "mimetype": "text/x-python",
   "name": "python",
   "nbconvert_exporter": "python",
   "pygments_lexer": "ipython3",
   "version": "3.8.2"
  }
 },
 "nbformat": 4,
 "nbformat_minor": 4
}

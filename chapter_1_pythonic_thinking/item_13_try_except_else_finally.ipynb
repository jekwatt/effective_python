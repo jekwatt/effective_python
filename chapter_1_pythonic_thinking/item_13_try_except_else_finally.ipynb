{
 "cells": [
  {
   "cell_type": "markdown",
   "metadata": {},
   "source": [
    "### Item 13: Take Advantage of Each Block in try/except/else/finally"
   ]
  },
  {
   "cell_type": "markdown",
   "metadata": {},
   "source": [
    "* There are four distinct times that you may want to take action during exception handling in Python.\n",
    "* These are captured in the functionality of `try`, `except`, `else`, and `finally` blocks.\n",
    "\n",
    "\n",
    "* Each block serves a unique purpose in the compound statement, and their various combinations are useful.\n",
    "    * See `Item 51`: Define a Root Exception to Insulate Callers from APIs"
   ]
  },
  {
   "cell_type": "markdown",
   "metadata": {},
   "source": [
    "#### Finally Blocks\n",
    "\n",
    "* Use try/finally when you want exceptions to propagate up, or want to run cleanup code even when exceptions occur.\n",
    "\n",
    "\n",
    "* One common usage of try/finally is for reliably closing file handles.\n",
    "    * See `Item 43`: \"Consider contextlib and with Statemets for Reusable try/finally Behavior\""
   ]
  },
  {
   "cell_type": "code",
   "execution_count": null,
   "metadata": {},
   "outputs": [],
   "source": [
    "# random JSON data\n",
    "input_txt = \"../data/random_data.txt\"\n",
    "\n",
    "handle = open(input_txt)  # May raise IOError\n",
    "try:\n",
    "    data = handle.read()  # May raise UnicodeDecodeError\n",
    "finally:\n",
    "    handle.close()  # Always runs after try:"
   ]
  },
  {
   "cell_type": "markdown",
   "metadata": {},
   "source": [
    "* Any `exception` raised by the `read` method will always propagate up to the calling code.\n",
    "* Yet the `close` method of handle is also guaranteed to run in the `finally` block.\n",
    "* You must call `open` before the `try` block because `exception` that occur when opening the file (like `IOError` if the file does not exist) should skip the `finally` block."
   ]
  },
  {
   "cell_type": "markdown",
   "metadata": {},
   "source": [
    "#### Else block"
   ]
  },
  {
   "cell_type": "markdown",
   "metadata": {},
   "source": [
    "* Use `try/except/else` to make it clear which exceptions will be handled by your code and which exceptions will propagate up.\n",
    "* When the `try` block doesn't raise an exception, the `else` block willl run.\n",
    "* the `else` block helps you minimize the amount of code in the `try` block and improves readability."
   ]
  },
  {
   "cell_type": "code",
   "execution_count": null,
   "metadata": {},
   "outputs": [],
   "source": [
    "import json\n",
    "\n",
    "def load_json_key(data, key):\n",
    "    try:\n",
    "        result_dict = json.loads(data)  # May raise ValueError\n",
    "    except ValueError as e:\n",
    "        raise KeyError from e\n",
    "    else:\n",
    "        return result_dict[key]  # May raise KeyError"
   ]
  },
  {
   "cell_type": "code",
   "execution_count": null,
   "metadata": {},
   "outputs": [],
   "source": [
    "data"
   ]
  },
  {
   "cell_type": "code",
   "execution_count": null,
   "metadata": {},
   "outputs": [],
   "source": [
    "key = 'popup'\n",
    "load_json_key(data, key)"
   ]
  },
  {
   "cell_type": "markdown",
   "metadata": {},
   "source": [
    "* If the data isn't JSON, then decoding with json.loads will raise a ValueError.\n",
    "* The exception is caught by the except block and hendled.\n",
    "* If decoding is successful, then the key lookup will occur i the else block.\n",
    "* if the key lookup rasises any exceptions, they will propagate up to the caller because they are outside the try block.\n",
    "* The else clause ensures that what follows the try/except is visually distinguished from the except block.\n",
    "* This makes the exception propagation behavior clear."
   ]
  },
  {
   "cell_type": "markdown",
   "metadata": {},
   "source": [
    "#### Everything together\n",
    "\n",
    "Use try/except/else/finally when you want to do it all in one compound statement."
   ]
  },
  {
   "cell_type": "code",
   "execution_count": null,
   "metadata": {},
   "outputs": [],
   "source": [
    "UNDEFINED = object()\n",
    "\n",
    "def divide_json(path):\n",
    "    handle = open(path, 'r+')  # May raise IOError\n",
    "    try:\n",
    "        data = handle.read()  # May raise UnicodeDecodeError\n",
    "        op = json.loads(data)  # May raise ValueError\n",
    "        value = (\n",
    "            op['numerator'] /\n",
    "            op['denominator'])  # May raise ZeroDivisionError\n",
    "    except ZeroDivisionError as e:\n",
    "        return UNDEFINED\n",
    "    else:\n",
    "        op['result'] = value\n",
    "        result = json.dumps(op)\n",
    "        handle.seek(0)\n",
    "        handle.write(result)  # May raise IOError\n",
    "        return value\n",
    "    finally:\n",
    "        handle.close()  # Always runs      "
   ]
  },
  {
   "cell_type": "markdown",
   "metadata": {},
   "source": [
    "* This layout is especially useful because all of the blocks work together in intuitive ways."
   ]
  },
  {
   "cell_type": "markdown",
   "metadata": {},
   "source": [
    "### Things to Remember"
   ]
  },
  {
   "cell_type": "markdown",
   "metadata": {},
   "source": [
    "* The `try/finally` compound statement lets you run cleanup code regardless of whether exceptions were raised in the try block.\n",
    "* The `else` block helps you minimize the amount of code in try blocks and visually distinguish the success case from the `try/except` blocks.\n",
    "* An `else` block can be used to perform additional actions after a successful try block but before common cleanup in a `finally` block."
   ]
  },
  {
   "cell_type": "code",
   "execution_count": null,
   "metadata": {},
   "outputs": [],
   "source": []
  }
 ],
 "metadata": {
  "kernelspec": {
   "display_name": "Python 3",
   "language": "python",
   "name": "python3"
  },
  "language_info": {
   "codemirror_mode": {
    "name": "ipython",
    "version": 3
   },
   "file_extension": ".py",
   "mimetype": "text/x-python",
   "name": "python",
   "nbconvert_exporter": "python",
   "pygments_lexer": "ipython3",
   "version": "3.8.2"
  }
 },
 "nbformat": 4,
 "nbformat_minor": 4
}

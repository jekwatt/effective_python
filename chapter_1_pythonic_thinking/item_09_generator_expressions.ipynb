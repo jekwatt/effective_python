{
 "cells": [
  {
   "cell_type": "markdown",
   "metadata": {},
   "source": [
    "## Item 09: Consider Generator Expressions for Large Comprehensions"
   ]
  },
  {
   "cell_type": "markdown",
   "metadata": {},
   "source": [
    "* For large inputs list comprehensions could consume significant amounts of memory and cause your program to crash.\n",
    "\n",
    "* Python provides `generator expressions`, `a generalization of list comprehensions and generators`.\n",
    "\n",
    "* `Generator expressions` don’t materialize the whole output sequence when they’re run.\n",
    "\n",
    "* Instead, `generator expressions` evaluate to an iterator that `yields` one item at a time from the expression."
   ]
  },
  {
   "cell_type": "code",
   "execution_count": null,
   "metadata": {},
   "outputs": [],
   "source": [
    "a = ['apple', 'orange', 'pear', 'banana', 'kiwi', 'strawberry']"
   ]
  },
  {
   "cell_type": "code",
   "execution_count": null,
   "metadata": {},
   "outputs": [],
   "source": [
    "# list comprehensions\n",
    "value = [len(x) for x in a]\n",
    "value"
   ]
  },
  {
   "cell_type": "markdown",
   "metadata": {},
   "source": [
    "* A generator expression is created by putting list-comprehension-like syntax between () charactrers.\n",
    "* See the difference between `list comprehensions` and `generator expressions`."
   ]
  },
  {
   "cell_type": "code",
   "execution_count": null,
   "metadata": {},
   "outputs": [],
   "source": [
    "# generator expressions\n",
    "it = (len(x) for x in a)\n",
    "it"
   ]
  },
  {
   "cell_type": "markdown",
   "metadata": {},
   "source": [
    "* The returned iterator can be advanced one step at a time to produce the next output from the generator expression as needed\n",
    "* (using the `next` built-in function)."
   ]
  },
  {
   "cell_type": "code",
   "execution_count": null,
   "metadata": {},
   "outputs": [],
   "source": [
    "next(it)"
   ]
  },
  {
   "cell_type": "code",
   "execution_count": null,
   "metadata": {},
   "outputs": [],
   "source": [
    "next(it)"
   ]
  },
  {
   "cell_type": "markdown",
   "metadata": {},
   "source": [
    "* Take the iterator returned by the generator expression above and use it as the input for another generator expression"
   ]
  },
  {
   "cell_type": "code",
   "execution_count": null,
   "metadata": {},
   "outputs": [],
   "source": [
    "# powerful feature\n",
    "\n",
    "roots = ((x, x ** 0.5) for x in it)\n",
    "roots"
   ]
  },
  {
   "cell_type": "markdown",
   "metadata": {},
   "source": [
    "* Each time I advance this iterator, it will also advance the `interior iterator`."
   ]
  },
  {
   "cell_type": "code",
   "execution_count": null,
   "metadata": {},
   "outputs": [],
   "source": [
    "next(roots)"
   ]
  },
  {
   "cell_type": "code",
   "execution_count": null,
   "metadata": {},
   "outputs": [],
   "source": [
    "next(roots)"
   ]
  },
  {
   "cell_type": "markdown",
   "metadata": {},
   "source": [
    "* Chaining generators like this executes very quickly in Python.\n",
    "* Gocha: the iterators returned by generator expressions are `stateful`.\n",
    "* Must be careful not to use them more than once."
   ]
  },
  {
   "cell_type": "markdown",
   "metadata": {},
   "source": [
    "### Things to Remember"
   ]
  },
  {
   "cell_type": "markdown",
   "metadata": {},
   "source": [
    "* List comprehensions can cause problems for large inputs by using too much memory.\n",
    "\n",
    "* `Generator expressions` avoid memory issues by producing outputs one at a time as an `iterator`.\n",
    "\n",
    "* `Generator expressions` can be composed by passing the `iterator` from one generator expression into the for subexpression of another.\n",
    "\n",
    "* `Generator expressions` execute very quickly when chained together."
   ]
  },
  {
   "cell_type": "code",
   "execution_count": null,
   "metadata": {},
   "outputs": [],
   "source": []
  }
 ],
 "metadata": {
  "kernelspec": {
   "display_name": "Python 3",
   "language": "python",
   "name": "python3"
  },
  "language_info": {
   "codemirror_mode": {
    "name": "ipython",
    "version": 3
   },
   "file_extension": ".py",
   "mimetype": "text/x-python",
   "name": "python",
   "nbconvert_exporter": "python",
   "pygments_lexer": "ipython3",
   "version": "3.8.2"
  }
 },
 "nbformat": 4,
 "nbformat_minor": 4
}

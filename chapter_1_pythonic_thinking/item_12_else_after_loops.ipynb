{
 "cells": [
  {
   "cell_type": "markdown",
   "metadata": {},
   "source": [
    "### Item 12: Avoid else Blocks After for and while Loops"
   ]
  },
  {
   "cell_type": "markdown",
   "metadata": {},
   "source": [
    "* Python loops have an extra feature that is not available in most other programming language.\n",
    "* You can put an `else` block immediately after a `loop`'s repeated interior block."
   ]
  },
  {
   "cell_type": "code",
   "execution_count": null,
   "metadata": {},
   "outputs": [],
   "source": [
    "for i in range(3):\n",
    "    print(f\"Loop {i}\")\n",
    "else:\n",
    "    print(\"Else block!\")"
   ]
  },
  {
   "cell_type": "markdown",
   "metadata": {},
   "source": [
    "* Surprizingly, the else block runs immediately after the loop finishes.\n",
    "\n",
    "* Why is the clause called “else”? Why not “and”?\n",
    "\n",
    "    * if/else \n",
    "        * do this if the block before this doesn’t happen\n",
    "        \n",
    "    * try/except \n",
    "        * do this if trying the block before this failed\n",
    "        \n",
    "    * try/except/else \n",
    "        * do this if the block before did not fail\n",
    "\n",
    "    * try/finally\n",
    "        * [intuitive] always do what is final after trying the block before"
   ]
  },
  {
   "cell_type": "markdown",
   "metadata": {},
   "source": [
    "* else part of for/else does exactly the opposite\n",
    "    * \"Do this if the loop wasn't completed\" --> will always run"
   ]
  },
  {
   "cell_type": "markdown",
   "metadata": {},
   "source": [
    "* Using a break statement in a loop will actually skip the else block."
   ]
  },
  {
   "cell_type": "code",
   "execution_count": null,
   "metadata": {},
   "outputs": [],
   "source": [
    "for i in range(3):\n",
    "    print(f'Loop {i}')\n",
    "    if i == 1:\n",
    "        break\n",
    "else:\n",
    "    print('Else block!')"
   ]
  },
  {
   "cell_type": "markdown",
   "metadata": {},
   "source": [
    "* Another surprise is that the else block will run immediately if you loop over an empty sequence."
   ]
  },
  {
   "cell_type": "code",
   "execution_count": null,
   "metadata": {},
   "outputs": [],
   "source": [
    "for x in []:\n",
    "    print('Never runs')\n",
    "else:\n",
    "    print('Else block!')"
   ]
  },
  {
   "cell_type": "markdown",
   "metadata": {},
   "source": [
    "* The else block also runs when while loops are initially false."
   ]
  },
  {
   "cell_type": "code",
   "execution_count": null,
   "metadata": {},
   "outputs": [],
   "source": [
    "while False:\n",
    "    print('Never runs')\n",
    "else:\n",
    "    print('Else block!')"
   ]
  },
  {
   "cell_type": "markdown",
   "metadata": {},
   "source": [
    "* The rationale fo rthese behaviors is taht else blocks after loops are useful when you're using loops to search for something.\n",
    "\n",
    "* e.g.\n",
    "    * The else block runs when the numbers are coprime because the loop doesn't encounter a break."
   ]
  },
  {
   "cell_type": "markdown",
   "metadata": {},
   "source": [
    "#### Definition of coprime"
   ]
  },
  {
   "cell_type": "markdown",
   "metadata": {},
   "source": [
    "   * When two numbers have no common factors other than 1.\n",
    "\n",
    "    * In other words there is no whole number that you could divide them both by exactly (without any remainder).\n",
    "\n",
    "* e.g.\n",
    "    * 21 and 22 are coprime:\n",
    "        * The factors of 21 are 1, 3, 7 and 21\n",
    "        * The factors of 22 are 1, 2, 11 and 22\n",
    "        (the only common factor is 1)\n",
    "\n",
    "    * But 21 and 24 are NOT coprime:\n",
    "        * The factors of 21 are 1, 3, 7 and 21\n",
    "        * The factors of 24 are 1, 2, 3, 4, 6, 8, 12 and 24\n",
    "        (the common factors are 1 AND 3)"
   ]
  },
  {
   "cell_type": "code",
   "execution_count": null,
   "metadata": {},
   "outputs": [],
   "source": [
    "a = 4\n",
    "b = 9\n",
    "\n",
    "for i in range(2, min(a, b) + 1):\n",
    "    print(\"Testing\", i)\n",
    "    if a % i == 0 and b % i == 0:\n",
    "        print(\"Not coprime\")\n",
    "        break\n",
    "else:\n",
    "    print(\"Coprime\")"
   ]
  },
  {
   "cell_type": "code",
   "execution_count": null,
   "metadata": {},
   "outputs": [],
   "source": [
    "def coprime(a, b):\n",
    "    for i in range(2, min(a, b) + 1):\n",
    "        if a % i == 0 and b % i == 0:\n",
    "            return False\n",
    "    return True"
   ]
  },
  {
   "cell_type": "code",
   "execution_count": null,
   "metadata": {},
   "outputs": [],
   "source": [
    "coprime(21, 24)"
   ]
  },
  {
   "cell_type": "code",
   "execution_count": null,
   "metadata": {},
   "outputs": [],
   "source": [
    "def coprime2(a, b):\n",
    "    is_coprime = True\n",
    "    for i in range(2, min(a, b) + 1):\n",
    "        if a % i == 0 and b % i == 0:\n",
    "            is_coprime = False\n",
    "            break\n",
    "    return is_coprime"
   ]
  },
  {
   "cell_type": "code",
   "execution_count": null,
   "metadata": {},
   "outputs": [],
   "source": [
    "coprime2(4, 9)"
   ]
  },
  {
   "cell_type": "markdown",
   "metadata": {},
   "source": [
    "* Both of these approaches are so much clearer to readers to unfamiliar code.\n",
    "* The expressivity you gain from the `else` block doesn’t outweigh the burden you put on people who want to understand your code.\n",
    "* You should avoid using `else` blocks after loops entirely."
   ]
  },
  {
   "cell_type": "markdown",
   "metadata": {},
   "source": [
    "### Things to Remember"
   ]
  },
  {
   "cell_type": "markdown",
   "metadata": {},
   "source": [
    "* Python has special syntax that allows `else` blocks to immediately follow `for1` and `while` loop interior blocks.\n",
    "* The `else` block after a loop only runs if the loop body did not encounter a `break` statement\n",
    "* Avoid using `else` blocks after loops because their behavior isn’t intuitive and can be confusing."
   ]
  },
  {
   "cell_type": "code",
   "execution_count": null,
   "metadata": {},
   "outputs": [],
   "source": []
  }
 ],
 "metadata": {
  "kernelspec": {
   "display_name": "Python 3",
   "language": "python",
   "name": "python3"
  },
  "language_info": {
   "codemirror_mode": {
    "name": "ipython",
    "version": 3
   },
   "file_extension": ".py",
   "mimetype": "text/x-python",
   "name": "python",
   "nbconvert_exporter": "python",
   "pygments_lexer": "ipython3",
   "version": "3.8.2"
  }
 },
 "nbformat": 4,
 "nbformat_minor": 4
}

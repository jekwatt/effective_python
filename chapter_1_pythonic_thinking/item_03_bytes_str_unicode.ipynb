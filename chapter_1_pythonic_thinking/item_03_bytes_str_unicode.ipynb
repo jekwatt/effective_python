{
 "cells": [
  {
   "cell_type": "markdown",
   "metadata": {},
   "source": [
    "### Item 3: Know the Differences Between bytes, str, and unicode\n",
    "\n",
    "Focus only on Python 3.\n",
    "\n",
    "In Python 3, there are two types that represent sequences of characters: \n",
    "* bytes and str\n",
    "    - Instances of `bytes` contain raw 8-bit values.\n",
    "    - Instances of `str` contain Unicode characters.\n"
   ]
  },
  {
   "cell_type": "markdown",
   "metadata": {},
   "source": [
    "* There are many ways to represent Unicode characters as binary data (row 8-bit values).\n",
    "* The most common encoding is `UTF-8`\n",
    "\n",
    "Important!\n",
    "\n",
    "* `str` instances in Python 3 do not have an associated binary encoding.\n",
    "    * To convert Unicode characters to binary data, you must use the `encode` method.\n",
    "    * To convert binary data to Unicode characters, you must use the `decode` method.\n",
    "\n",
    "* When you're writing Python programs, it's important to do encoding and decoding of Unicode at the furthest boundary of your interfaces.\n",
    "\n",
    "* The core of your program should use Unicode character types (`str` in Python 3) and should not assume anything about character encodings.\n",
    "* This approach allows you to be very accepting an alternative text encodings while being stric about your putput text encoding (ideally, UTF-8)\n",
    "    * e.g.\n",
    "        * Latin-1\n",
    "        * Shift\n",
    "        * JIS\n",
    "        * Big5\n",
    "        * MS-DOS (cp437)"
   ]
  },
  {
   "cell_type": "markdown",
   "metadata": {},
   "source": [
    "* The split between character types leads to two common situations in Python code:\n",
    "    * Operate on row 8-bit values that are UTF-8-encoded characters (or some other encoding).\n",
    "    * Operate on Unicode characters that have no specific encoding.    "
   ]
  },
  {
   "cell_type": "markdown",
   "metadata": {},
   "source": [
    "#### You'll often need these two helper functions"
   ]
  },
  {
   "cell_type": "markdown",
   "metadata": {},
   "source": [
    "* take a `str` or `bytes` and always returns a `str`"
   ]
  },
  {
   "cell_type": "code",
   "execution_count": null,
   "metadata": {},
   "outputs": [],
   "source": [
    "def to_str(bytes_or_str):\n",
    "    if isinstance(bytes_or_str, bytes):\n",
    "        value = bytes_or_str.decode('utf-8')\n",
    "    else:\n",
    "        value = bytes_or_str\n",
    "    return value  # instance of str"
   ]
  },
  {
   "cell_type": "markdown",
   "metadata": {},
   "source": [
    "* take a `str` or `bytes` and always returns a `bytes`"
   ]
  },
  {
   "cell_type": "code",
   "execution_count": null,
   "metadata": {},
   "outputs": [],
   "source": [
    "def to_bytes(bytes_or_str):\n",
    "    if isinstance(bytes_or_str, str):\n",
    "        value = bytes_or_str.encode('utf-8')\n",
    "    else:\n",
    "        value = bytes_or_str\n",
    "    return value  # instance of bytes"
   ]
  },
  {
   "cell_type": "markdown",
   "metadata": {},
   "source": [
    "* data is being opened in write binary mode ('wb')"
   ]
  },
  {
   "cell_type": "code",
   "execution_count": null,
   "metadata": {},
   "outputs": [],
   "source": [
    "import os\n",
    "\n",
    "with open('random.bin', 'wb') as f:\n",
    "    f.write(os.urandom(10))"
   ]
  },
  {
   "cell_type": "markdown",
   "metadata": {},
   "source": [
    "### Things to Remember"
   ]
  },
  {
   "cell_type": "markdown",
   "metadata": {},
   "source": [
    "* In Python 3, `bytes` contains sequences of 8-bit values, `str` contains sequences of Unicode characters. \n",
    "    * bytes and str instances can’t be used together with operators (like > or +).\n",
    "\n",
    "\n",
    "* Use helper functions to ensure that the inputs you operate on are the type of character sequence you expect.\n",
    "    * 8-bit values, UTF-8 encoded characters, Unicode characters, etc.\n",
    "    \n",
    "\n",
    "* If you want to read or write binary data to/from a file, always open the file using a `binary` mode.\n",
    "    * like 'rb' or 'wb'"
   ]
  },
  {
   "cell_type": "code",
   "execution_count": null,
   "metadata": {},
   "outputs": [],
   "source": []
  }
 ],
 "metadata": {
  "kernelspec": {
   "display_name": "Python 3",
   "language": "python",
   "name": "python3"
  },
  "language_info": {
   "codemirror_mode": {
    "name": "ipython",
    "version": 3
   },
   "file_extension": ".py",
   "mimetype": "text/x-python",
   "name": "python",
   "nbconvert_exporter": "python",
   "pygments_lexer": "ipython3",
   "version": "3.8.2"
  }
 },
 "nbformat": 4,
 "nbformat_minor": 4
}

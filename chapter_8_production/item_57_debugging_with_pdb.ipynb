{
 "cells": [
  {
   "cell_type": "markdown",
   "metadata": {},
   "source": [
    "### Item 57: Consider Interactive Debugging with pdb"
   ]
  },
  {
   "cell_type": "markdown",
   "metadata": {},
   "source": [
    "* Debugging tools\n",
    "    * print function can help you track down the source of many issue.\n",
    "    * Writing tests for specific cases that cause trouble is a way of isolating problem.\n",
    "\n",
    "\n",
    "* But the tools aren't enough to find every root cause.\n",
    "    * Need something more powerful.\n",
    "    * Try Python's built-in interactive debugger.\n",
    "    * The debugger lets you inspect program state, print local variables and step through a Python program one statement at a time.\n",
    "\n",
    "\n",
    "* With Python, the easiest way to use the debugger is by modifying your program to directly initiate the debugger just before you think you'll have an issue worth investigating.\n",
    "* There is no difference between running a Python program uder a debugger and running it normally.  "
   ]
  },
  {
   "cell_type": "code",
   "execution_count": null,
   "metadata": {},
   "outputs": [],
   "source": [
    "# import the pdb built-in module and run its set_trace function.\n",
    "\n",
    "def complex_func(a, b, c):\n",
    "    # ...\n",
    "    import pdb; pdb.set_trace()"
   ]
  },
  {
   "cell_type": "markdown",
   "metadata": {},
   "source": [
    "* As soon as this statement runs, the program will pause its execution.\n",
    "\n",
    "* The terminal taht started your program will turn into an interactive Python shell."
   ]
  },
  {
   "cell_type": "code",
   "execution_count": null,
   "metadata": {},
   "outputs": [],
   "source": [
    "# complex_func()"
   ]
  },
  {
   "cell_type": "markdown",
   "metadata": {},
   "source": [
    "* At the (pdb) prompt, \n",
    "\n",
    "* Type in the name of local variable to their values printed out.\n",
    "* To see all `local` variables by calling the `local` built-in function.\n",
    "* You can `import` modules, inspect `global` state, construct new objects, run the `help` built-in function.\n",
    "* Even modify parts of the program."
   ]
  },
  {
   "cell_type": "markdown",
   "metadata": {},
   "source": [
    "#### Commands"
   ]
  },
  {
   "cell_type": "markdown",
   "metadata": {},
   "source": [
    "* PEP 553 -- Built-in breakpoint()\n",
    "\n",
    "https://www.python.org/dev/peps/pep-0553/"
   ]
  },
  {
   "cell_type": "markdown",
   "metadata": {},
   "source": [
    "* Pyhton 3.7\n",
    "\n",
    "    * `breakpoint()`: start debugger inside a Python script\n",
    "    * `PYTHONBREAKPOINT=0`: Env Var: set to skip all breakpoints\n",
    "    * `PYTHONBREAKPOINT=ipdb.set_trace`: Env Var: breakpoint(), which debugger to use    "
   ]
  },
  {
   "cell_type": "markdown",
   "metadata": {},
   "source": [
    "* Getting started\n",
    "\n",
    "    * `import pdb; pdb.set_trace()`: Start pdb inside a python script\n",
    "    * `python -m pdb <file.py>`: Start pdb from the commandline\n",
    "    * `import ipdb; ipdb.set_trace()`: Start ipdb inside a python script"
   ]
  },
  {
   "cell_type": "markdown",
   "metadata": {},
   "source": [
    "* Help or Exit\n",
    "    * h(elp): show help\n",
    "    * q(uit) or ctrl+d: quit debugging"
   ]
  },
  {
   "cell_type": "markdown",
   "metadata": {},
   "source": [
    "* Manual Breakpoints\n",
    "    * b(reak): show all breakpoints\n",
    "    * b(reak) line_no: set a breakpoint a line\n",
    "    * b(reak) line_no, condition: set a breakpoint at a line, if condition is met"
   ]
  },
  {
   "cell_type": "markdown",
   "metadata": {},
   "source": [
    "* Stepping\n",
    "    * n(ext): step over\n",
    "    * s(tep): step into\n",
    "    * r(eturn): continue until current function returns\n",
    "    * c(ontinue): continue until next breakpoint\n",
    "    * j(ump) line_no: next line to be executed (useful for breaking out of loops)"
   ]
  },
  {
   "cell_type": "markdown",
   "metadata": {},
   "source": [
    "* Frame Navigation\n",
    "    * u(p): up one level in the stack trace\n",
    "    * d(own): down one level in the stack trace"
   ]
  },
  {
   "cell_type": "markdown",
   "metadata": {},
   "source": [
    "* Display\n",
    "    * p(rint) expr: print the value of expr\n",
    "    * pp expr: pretty print the value of expr\n",
    "    * w(here): print the current position and stack trace\n",
    "    * l(ist): print the lines of code around the current line\n",
    "    * a(rgs): print args of the current function"
   ]
  },
  {
   "cell_type": "markdown",
   "metadata": {},
   "source": [
    "* To install ipdb with conda\n",
    "\n",
    "https://anaconda.org/conda-forge/ipdb\n",
    "\n",
    "TODO: update on using `ipdb` with Python 3.7 `breakpoint`"
   ]
  },
  {
   "cell_type": "markdown",
   "metadata": {},
   "source": [
    "### Things to Remember"
   ]
  },
  {
   "cell_type": "markdown",
   "metadata": {},
   "source": [
    "* Initiate the Python interactive debugger at a point of interest directly in your program with\n",
    "    * `import pdb; pdb.set_trace()`\n",
    "* The Python debugger prompt is a full Python shell that lets you inspect and modify the state of a running program.\n",
    "* `pdb` shell commands let you precisely control program exection, allowing you to alternate between inspecting program state and progressing program execution."
   ]
  },
  {
   "cell_type": "code",
   "execution_count": null,
   "metadata": {},
   "outputs": [],
   "source": []
  }
 ],
 "metadata": {
  "kernelspec": {
   "display_name": "Python 3",
   "language": "python",
   "name": "python3"
  },
  "language_info": {
   "codemirror_mode": {
    "name": "ipython",
    "version": 3
   },
   "file_extension": ".py",
   "mimetype": "text/x-python",
   "name": "python",
   "nbconvert_exporter": "python",
   "pygments_lexer": "ipython3",
   "version": "3.8.2"
  }
 },
 "nbformat": 4,
 "nbformat_minor": 4
}

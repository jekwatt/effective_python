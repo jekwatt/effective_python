{
 "cells": [
  {
   "cell_type": "markdown",
   "metadata": {},
   "source": [
    "### Item 55: Use repr Strings for Debugging Output"
   ]
  },
  {
   "cell_type": "markdown",
   "metadata": {},
   "source": [
    "* When debugging a Python program, the `print` function (or output via the `logging` built-in module) will get you far.\n",
    "* Print how the state of your program changes while it runs and see where it goes wrong.\n",
    "\n",
    "* The `print` function outputs a human-readable string version of whatever you suppply it.\n",
    "    * Without the surrounding `quote` characters."
   ]
  },
  {
   "cell_type": "code",
   "execution_count": null,
   "metadata": {},
   "outputs": [],
   "source": [
    "print(\"foo bar\")"
   ]
  },
  {
   "cell_type": "markdown",
   "metadata": {},
   "source": [
    "* This is equivalent to using f-string"
   ]
  },
  {
   "cell_type": "code",
   "execution_count": null,
   "metadata": {},
   "outputs": [],
   "source": [
    "print(f\"foo bar\")"
   ]
  },
  {
   "cell_type": "markdown",
   "metadata": {},
   "source": [
    "* Problem 1\n",
    "\n",
    "    * The human-readable string for a value doesn't make it clear what the actual type of value is.\n",
    "    * If you're debugging a program with `print`, these type differences matter.\n",
    "    * What you almost always want while debugging is to see the repr version of an object.\n",
    "        * Clearly understandable string representation."
   ]
  },
  {
   "cell_type": "code",
   "execution_count": null,
   "metadata": {},
   "outputs": [],
   "source": [
    "print(5)"
   ]
  },
  {
   "cell_type": "code",
   "execution_count": null,
   "metadata": {},
   "outputs": [],
   "source": [
    "print('5')"
   ]
  },
  {
   "cell_type": "code",
   "execution_count": null,
   "metadata": {},
   "outputs": [],
   "source": [
    "print(f\"{5}\")\n",
    "print(f\"{'5'}\")"
   ]
  },
  {
   "cell_type": "code",
   "execution_count": null,
   "metadata": {},
   "outputs": [],
   "source": [
    "a = \"\\x07\""
   ]
  },
  {
   "cell_type": "code",
   "execution_count": null,
   "metadata": {},
   "outputs": [],
   "source": [
    "print(repr(a))"
   ]
  },
  {
   "cell_type": "code",
   "execution_count": null,
   "metadata": {},
   "outputs": [],
   "source": [
    "print(f\"{a!r}\")"
   ]
  },
  {
   "cell_type": "markdown",
   "metadata": {},
   "source": [
    "* Passing the value fron `repr` to the `eval` built-in function should result in the same Python object you started with.\n",
    "    * Use `eval` with extreme caution."
   ]
  },
  {
   "cell_type": "code",
   "execution_count": null,
   "metadata": {},
   "outputs": [],
   "source": [
    "b = eval(repr(a))"
   ]
  },
  {
   "cell_type": "code",
   "execution_count": null,
   "metadata": {},
   "outputs": [],
   "source": [
    "assert a == b"
   ]
  },
  {
   "cell_type": "markdown",
   "metadata": {},
   "source": [
    "* When you're debugging with print, you should `repr` the value before printing to ensure that any difference in types is clear."
   ]
  },
  {
   "cell_type": "code",
   "execution_count": null,
   "metadata": {},
   "outputs": [],
   "source": [
    "print(repr(5))\n",
    "print(repr('5'))"
   ]
  },
  {
   "cell_type": "markdown",
   "metadata": {},
   "source": [
    "* This is equivalent to using f-string with !r."
   ]
  },
  {
   "cell_type": "code",
   "execution_count": null,
   "metadata": {},
   "outputs": [],
   "source": [
    "print(f\"{5!r}\")\n",
    "print(f\"{'5'!r}\")"
   ]
  },
  {
   "cell_type": "markdown",
   "metadata": {},
   "source": [
    "* For dynamic Python object, the default human-readable string value is the same as the `repr` value.\n",
    "    * Passing a dynamic object to print will do the right thing, and you don't need to explicitly call `repr` on it.\n",
    "    * Unfortunately, the default value of `repr` for object instances isn't especially helpful."
   ]
  },
  {
   "cell_type": "code",
   "execution_count": null,
   "metadata": {},
   "outputs": [],
   "source": [
    "class OpaqueClass(object):\n",
    "    def __init__(self, x, y):\n",
    "        self.x = x\n",
    "        self.y = y"
   ]
  },
  {
   "cell_type": "code",
   "execution_count": null,
   "metadata": {},
   "outputs": [],
   "source": [
    "obj = OpaqueClass(1, 2)\n",
    "print(obj)"
   ]
  },
  {
   "cell_type": "markdown",
   "metadata": {},
   "source": [
    "* Problem 2\n",
    "\n",
    "    * This output can't passed to the eval function, and it says nothing about the instance fields of the object.\n",
    "\n",
    "\n",
    "* Two solutions to this problems:\n",
    "\n",
    "    * If you have control of the class, you can define your own `__repr__` special method that returns a string.\n",
    "        * Recreate the object.\n",
    "    * When you don't have control over the class definition, you can reach into the object's instance dictionary.\n",
    "        * Stored in the `__dict__` attribute."
   ]
  },
  {
   "cell_type": "code",
   "execution_count": null,
   "metadata": {},
   "outputs": [],
   "source": [
    "class BetterClass(object):\n",
    "    def __init__(self, x, y):\n",
    "        self.x = x\n",
    "        self.y = y\n",
    "        \n",
    "    def __repr__(self):\n",
    "        return f\"BetterClass({self.x!r}, {self.y!r})\""
   ]
  },
  {
   "cell_type": "code",
   "execution_count": null,
   "metadata": {},
   "outputs": [],
   "source": [
    "obj = BetterClass(1, 2)"
   ]
  },
  {
   "cell_type": "code",
   "execution_count": null,
   "metadata": {},
   "outputs": [],
   "source": [
    "print(obj)"
   ]
  },
  {
   "cell_type": "code",
   "execution_count": null,
   "metadata": {},
   "outputs": [],
   "source": [
    "obj = OpaqueClass(4, 5)\n",
    "print(obj.__dict__)"
   ]
  },
  {
   "cell_type": "markdown",
   "metadata": {},
   "source": [
    "### Things to Remember"
   ]
  },
  {
   "cell_type": "markdown",
   "metadata": {},
   "source": [
    "* Calling `print` on built-in Python types will produce the human-readable string version of a value, which hides type information.\n",
    "\n",
    "* Calling `repr` on built-in Python types will produce the printable string version of a value.\n",
    "    * These `repr` strings could be passed to the `eval` built-in function to get back the original value.\n",
    "    \n",
    "* f-string will produce human-readable strings like `str`.\n",
    "    * f-string with `!r` will produce printable strings like `repr`.\n",
    "\n",
    "* You can define the `__repr__` method to customize the printable representation of a class and provide more detailed debugging information.\n",
    "\n",
    "* You can reach into any object's `__dict__` attribute to view its internals."
   ]
  },
  {
   "cell_type": "code",
   "execution_count": null,
   "metadata": {},
   "outputs": [],
   "source": []
  }
 ],
 "metadata": {
  "kernelspec": {
   "display_name": "Python 3",
   "language": "python",
   "name": "python3"
  },
  "language_info": {
   "codemirror_mode": {
    "name": "ipython",
    "version": 3
   },
   "file_extension": ".py",
   "mimetype": "text/x-python",
   "name": "python",
   "nbconvert_exporter": "python",
   "pygments_lexer": "ipython3",
   "version": "3.8.2"
  }
 },
 "nbformat": 4,
 "nbformat_minor": 4
}

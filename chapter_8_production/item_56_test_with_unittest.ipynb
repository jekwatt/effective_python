{
 "cells": [
  {
   "cell_type": "markdown",
   "metadata": {},
   "source": [
    "### Item 56: Test Everything With unittest"
   ]
  },
  {
   "cell_type": "markdown",
   "metadata": {},
   "source": [
    "* Python doesn't have static type checking.\n",
    "* There is nothing in the compiler that will ensure that your program will work when you run it.\n",
    "* With Python you don't know whether functions your program call will be defined at runtime, even when their existence is evident in your source code.\n",
    "* This dynamic behavior is a blessing and a curse."
   ]
  },
  {
   "cell_type": "markdown",
   "metadata": {},
   "source": [
    "* Dynamic import\n",
    "    * See `Item 52`: Know How to Break Circular Dependencies.       \n",
    "* You should always test your code.\n",
    "* The big difference between Python and many other languages is that the only way to have any confidence in a Python program is by writing tests.\n",
    "* The simplest way to write tests is to use the `unittest` built-in module."
   ]
  },
  {
   "cell_type": "code",
   "execution_count": null,
   "metadata": {},
   "outputs": [],
   "source": [
    "# utils.py\n",
    "def to_str(data):\n",
    "    if isinstance(data, str):\n",
    "        return data\n",
    "    elif isinstance(data, bytes):\n",
    "        return data.decode(\"utf-8\")\n",
    "    else:\n",
    "        raise TypeError(\"Must supply str or bytes, \"\n",
    "                        f\"found: {data!r}\")"
   ]
  },
  {
   "cell_type": "code",
   "execution_count": null,
   "metadata": {},
   "outputs": [],
   "source": [
    "to_str(\"hello there!\")"
   ]
  },
  {
   "cell_type": "markdown",
   "metadata": {},
   "source": [
    "* To define tests, I create a second file named `test_utils.py` or utils_test.py` that contains tests for each behavior I expect. "
   ]
  },
  {
   "cell_type": "code",
   "execution_count": null,
   "metadata": {},
   "outputs": [],
   "source": [
    "# utils_test.py\n",
    "from unittest import TestCase, main\n",
    "from utils import to_str\n",
    "\n",
    "class UtilsTestCase(TestCase):\n",
    "    def test_to_str_bytes(self):\n",
    "        self.assertEqual(\"hello\", to_str(b\"hello\"))\n",
    "        \n",
    "    def test_to_str_str(self):\n",
    "        self.assetEqual(\"hello\", to_str(\"hello\"))\n",
    "        \n",
    "    def test_to_str_bad(self):\n",
    "        self.assetRaises(TypeError, to_str, object())\n",
    "        \n",
    "if __name__ == \"__main__\":\n",
    "    main()"
   ]
  },
  {
   "cell_type": "markdown",
   "metadata": {},
   "source": [
    "* Tests are organized into `TestCase` classes.\n",
    "* Each test is a method beginning with the word `test`.\n",
    "* If a test method runs without any kind of `Exception` (including `AssertionError` from `assert` statement), then the test is considered to have passed successfully."
   ]
  },
  {
   "cell_type": "markdown",
   "metadata": {},
   "source": [
    "* The `TestCase` class provides helper methods for making assertions in your tests:\n",
    "    * `assertEqual` for verifying equality.\n",
    "    * `assertTrue` for verifying Boolean expressions.\n",
    "    * `assertRaises` for verifying that exceptions are raised when appropriate (see help(TestCase) for more)."
   ]
  },
  {
   "cell_type": "code",
   "execution_count": null,
   "metadata": {},
   "outputs": [],
   "source": [
    "help(TestCase)"
   ]
  },
  {
   "cell_type": "markdown",
   "metadata": {},
   "source": [
    "* You can define your own helper modules in `TestCase` subclasses to make your tests more readable.\n",
    "    * Ensure that your method names don't begin with the word `test`."
   ]
  },
  {
   "cell_type": "markdown",
   "metadata": {},
   "source": [
    "* Another common plactice when writing tests is to use mock functions and classes to stub out certain behaviors.\n",
    "    * `unittest.mock` built-in module"
   ]
  },
  {
   "cell_type": "markdown",
   "metadata": {},
   "source": [
    "* Sometimes, your `TestCase` classes need to set up the test environment before running test methods.\n",
    "* To do this, you can override the `setUp` and `tearDown` methods.\n",
    "    <br>\n",
    "    important!\n",
    "    <br>\n",
    "    * These methods are called before and after each test method, respectively, and they let you ensure that each test runs in isolation (an important best practice of proper testing)."
   ]
  },
  {
   "cell_type": "code",
   "execution_count": null,
   "metadata": {},
   "outputs": [],
   "source": [
    "# Define a TestCase \n",
    "# Creates a temporary directory before each test and deletes its contents after each test finishes\n",
    "\n",
    "class MyTest(TestCase):\n",
    "    def setUp(self):\n",
    "        self.test_dir = TemporaryDirectory()\n",
    "    def tearDown(self):\n",
    "        self.test_dir.cleanup()\n",
    "    # Test methods follow\n",
    "    # ..."
   ]
  },
  {
   "cell_type": "markdown",
   "metadata": {},
   "source": [
    "* You can define one `TestCase` for each set of related tests.\n",
    "* Sometimes, you can have one `TestCase` for each function that has many edge cases.\n",
    "* Other times, a `TestCase` spans all functions in a single module.\n",
    "* Also create one `TestCase` for testing a single class and all of its methods."
   ]
  },
  {
   "cell_type": "markdown",
   "metadata": {},
   "source": [
    "* When programs get complicated, you'll want additional tests for verifying the interactions between your modules, instead of only testing code in isolation.\n",
    "    * This is the difference between `unit tests` and `integration tests`.\n",
    "* In Python, it's important to write both types of tests for exactly the same reason: You have no guarantee that your modules will actually work together unless you prove it."
   ]
  },
  {
   "cell_type": "markdown",
   "metadata": {},
   "source": [
    "* Depending on your project, it can also be useful to define data-driven tests or organize tests into different suites of related functionality.\n",
    "* For these purposes, code coverage reports, and other advanced use cases, the nose and pytest open source packages can be especially hepful.\n",
    "    * http://nose.readthedocs.org\n",
    "    * http://pytest.org"
   ]
  },
  {
   "cell_type": "markdown",
   "metadata": {},
   "source": [
    "### Things to Remember"
   ]
  },
  {
   "cell_type": "markdown",
   "metadata": {},
   "source": [
    "* The only way to have confidence in a Python program is to write tests.\n",
    "* The `unittest` built-in module provides most of the facilities you'll need to write good tests.\n",
    "* You can define tests by subclassing `TestCase` and defining one method per behavior you'd like to test.  \n",
    "    * Test methods on `TestCase` classes must start with the word `test`.\n",
    "* It's important to write both `unit tests` (for isolated functionality) and `integration tests` (for modules that interact)."
   ]
  },
  {
   "cell_type": "code",
   "execution_count": null,
   "metadata": {},
   "outputs": [],
   "source": []
  }
 ],
 "metadata": {
  "kernelspec": {
   "display_name": "Python 3",
   "language": "python",
   "name": "python3"
  },
  "language_info": {
   "codemirror_mode": {
    "name": "ipython",
    "version": 3
   },
   "file_extension": ".py",
   "mimetype": "text/x-python",
   "name": "python",
   "nbconvert_exporter": "python",
   "pygments_lexer": "ipython3",
   "version": "3.8.2"
  }
 },
 "nbformat": 4,
 "nbformat_minor": 4
}

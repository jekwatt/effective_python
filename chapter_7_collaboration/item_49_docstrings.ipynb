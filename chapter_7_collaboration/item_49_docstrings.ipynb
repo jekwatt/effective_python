{
 "cells": [
  {
   "cell_type": "markdown",
   "metadata": {},
   "source": [
    "### Item 49: Write Docstrings for Every Function, Class, and Module"
   ]
  },
  {
   "cell_type": "markdown",
   "metadata": {},
   "source": [
    "* Collaborating with others on Python programs requires being deliberate about how you write your code.\n",
    "* Important to understand the mechanisms that make it easy to collaborate with other Python programmers."
   ]
  },
  {
   "cell_type": "code",
   "execution_count": null,
   "metadata": {},
   "outputs": [],
   "source": [
    "def palindrome(word):\n",
    "    \"\"\"Return True if the given word is a palindrome.\"\"\"\n",
    "    return word == word[::-1]"
   ]
  },
  {
   "cell_type": "markdown",
   "metadata": {},
   "source": [
    "You can retrieve the docstring from within the Python program itself by accessing the function's `__doc__`special attribute."
   ]
  },
  {
   "cell_type": "code",
   "execution_count": null,
   "metadata": {},
   "outputs": [],
   "source": [
    "print(repr(palindrome.__doc__))"
   ]
  },
  {
   "cell_type": "code",
   "execution_count": null,
   "metadata": {},
   "outputs": [],
   "source": [
    "print(f\"{palindrome.__doc__!r}\")"
   ]
  },
  {
   "cell_type": "markdown",
   "metadata": {},
   "source": [
    "* Docstrings can be attached to functions, classes, and modules.\n",
    "\n",
    "* Support for docstrings and the `__doc__` attribute has three consequences:\n",
    "\n",
    "    * The accessibility of documentation makes interactive development easier.\n",
    "    * A standard way of defining documentation makes it easy to build tools that convert the text into more appealing formats:\n",
    "        * Sphinx (http://sphinx-doc.org)\n",
    "        * Read the Docs (https://readthedocs.org)\n",
    "    * Python's first-class, accessbile, and good-looking decumentation encourages people to write more documentation.\n",
    "        * Strong belief in the importance of documentation.\n",
    "        * These's an assumption that \"good code\" also means well-documented code."
   ]
  },
  {
   "cell_type": "markdown",
   "metadata": {},
   "source": [
    "* Follow a few guidelines when you write docstrings:\n",
    "    * PEP 257 (http://www.python.org/dev/peps/pep-0257)"
   ]
  },
  {
   "cell_type": "markdown",
   "metadata": {},
   "source": [
    "### Documenting Modules"
   ]
  },
  {
   "cell_type": "markdown",
   "metadata": {},
   "source": [
    "* Each module should have a top-level docstring (string literal).\n",
    "    * It should use three double quotes(\"\"\").\n",
    "    * The goal of this docstring is to introduce the module and its contents."
   ]
  },
  {
   "cell_type": "markdown",
   "metadata": {},
   "source": [
    "* Example of a module docstring:"
   ]
  },
  {
   "cell_type": "code",
   "execution_count": null,
   "metadata": {},
   "outputs": [],
   "source": [
    "# my_module.py\n",
    "#!/usr/bin/env python3\n",
    "\"\"\"The first line of the docstring should be a single sentence describing the module's purpose.\n",
    "\n",
    "The paragraphs that follow should contain the details that all users of the module should know about its operation.\n",
    "\n",
    "Highlight important classes and functions found in the module.\n",
    "\n",
    "Available classes:\n",
    "- class1: description\n",
    "- class2: description\n",
    "\n",
    "Available functions:\n",
    "- function1: description\n",
    "- function2: description\n",
    "\n",
    "If the module is a command-line utility, the module docstring is also a great place\n",
    "to put usage information for running the tool from the command-line.\n",
    "...\n",
    "\"\"\"\n",
    "\n",
    "# ..."
   ]
  },
  {
   "cell_type": "markdown",
   "metadata": {},
   "source": [
    "### Documenting Classes"
   ]
  },
  {
   "cell_type": "markdown",
   "metadata": {},
   "source": [
    "* Each class should have a class-level docstring.\n",
    "    * This largely follows the same pattern as the module-level docstring."
   ]
  },
  {
   "cell_type": "markdown",
   "metadata": {},
   "source": [
    "* Example of a class docstring"
   ]
  },
  {
   "cell_type": "code",
   "execution_count": null,
   "metadata": {},
   "outputs": [],
   "source": [
    "class MyClass(object):\n",
    "    \"\"\"The first line is the single-sentence purpose of the class.\n",
    "\n",
    "    Paragraphs that follow discuss important details of the class's operation.\n",
    "\n",
    "    Important public attributes and methods of the class should be highlighted in the class-level docstring.\n",
    "    \n",
    "    Public attributes:\n",
    "    - attributes1: description\n",
    "    - attributes2: description\n",
    "    \n",
    "    It should also provide guidance to subclasses on how to properly interact with protected attributes.\n",
    "    ...\n",
    "    \"\"\"\n",
    "    \n",
    "    # ..."
   ]
  },
  {
   "cell_type": "markdown",
   "metadata": {},
   "source": [
    "### Documenting Functions"
   ]
  },
  {
   "cell_type": "markdown",
   "metadata": {},
   "source": [
    "* Each public function and method should have a docstring.\n",
    "    * This follows the same pattern as modules and classes."
   ]
  },
  {
   "cell_type": "markdown",
   "metadata": {},
   "source": [
    "* Example of a function docstring:"
   ]
  },
  {
   "cell_type": "code",
   "execution_count": null,
   "metadata": {},
   "outputs": [],
   "source": [
    "def my_function(arg1, arg2):\n",
    "    \"\"\"The first line is the single-sentence description of what the function does.\n",
    "    \n",
    "    The paragraphs that follow should describe any specific behaviors and the arguments for the function.\n",
    "    Args:\n",
    "        arg1: description\n",
    "        arg2: description\n",
    "    \n",
    "    Any return values should be mentioned.\n",
    "    Returns:\n",
    "        description\n",
    "        \n",
    "    Any exceptions that callers must handle as part of the function's interface should be explained.\n",
    "    Exceptions:\n",
    "        description\n",
    "    ...\n",
    "    \"\"\""
   ]
  },
  {
   "cell_type": "markdown",
   "metadata": {},
   "source": [
    "* There are special cases in writing docstrings for functions that are important to know:\n",
    "\n",
    "    * If your function has no arguments and a simple return value, a single sentence description is probably good enough.\n",
    "    * If your function doesn't return anything, it's better to leave out any mention of the return value instead of saying \"return None\"\n",
    "    * If you don't expect your function to raise an `exception` during normal operation, don't mention that fact.\n",
    "    * If your function accepts a variable number of arguments, use `*args` and `**kwargs` in the documented list of arguments to describe their purpose.\n",
    "    * If your function has arguments with default values, those defaults should be mentioned.\n",
    "    * If your function is a `generator`, then your docstring should describe what the `generator` yields when it's iterated.\n",
    "    * If your function is a `coroutine`, then your docstring should contain what the `coroutine` yields, what it expects to receive fron `yield expressions`, and when it will stop iteration."
   ]
  },
  {
   "cell_type": "markdown",
   "metadata": {},
   "source": [
    "Note:\n",
    "\n",
    "* Once you've written `docstrings` for your modules, it's important to keep the documentation up to date.\n",
    "\n",
    "* The `doctest` built-in module makes it easy to exercise usage examples embedded in docstrings to ensure that your source code and its documentation don't diverge over time.\n",
    "\n",
    "https://docs.python.org/3/library/doctest.html"
   ]
  },
  {
   "cell_type": "markdown",
   "metadata": {},
   "source": [
    "### Things to Remember"
   ]
  },
  {
   "cell_type": "markdown",
   "metadata": {},
   "source": [
    "* Write documentation for every module, class, and function using docstrings.\n",
    "    * Keep them up to date as your code changes.\n",
    "\n",
    "\n",
    "* For `modules`: Introduce the contents of the `module` and any important `classes` or `functions` all users should know about.\n",
    "\n",
    "* For `classes`: Document behavior, important attributes, and subclass behavior in the docstring following the `class` statement.\n",
    "\n",
    "* For `functions and methods`: Document every argument, returned value, raised exception, and other behaviors in the docstring following the `def` statement."
   ]
  },
  {
   "cell_type": "code",
   "execution_count": null,
   "metadata": {},
   "outputs": [],
   "source": []
  }
 ],
 "metadata": {
  "kernelspec": {
   "display_name": "Python 3",
   "language": "python",
   "name": "python3"
  },
  "language_info": {
   "codemirror_mode": {
    "name": "ipython",
    "version": 3
   },
   "file_extension": ".py",
   "mimetype": "text/x-python",
   "name": "python",
   "nbconvert_exporter": "python",
   "pygments_lexer": "ipython3",
   "version": "3.8.2"
  }
 },
 "nbformat": 4,
 "nbformat_minor": 4
}

{
 "cells": [
  {
   "cell_type": "markdown",
   "metadata": {},
   "source": [
    "### Item 51: Define a Root Exception to Insulate Callers from APIs"
   ]
  },
  {
   "cell_type": "markdown",
   "metadata": {},
   "source": [
    "* When you're defining a module's API, the exceptions you throw are just as much a part of your interface as the functions and classes you define.\n",
    "    * See `Item 14`: Prefer Exceptions to Returning None.\n",
    "\n",
    "\n",
    "* Python has a built-in hierarchy of exceptions for the language and standard library."
   ]
  },
  {
   "cell_type": "code",
   "execution_count": null,
   "metadata": {},
   "outputs": [],
   "source": [
    "import logging\n",
    "\n",
    "import my_module"
   ]
  },
  {
   "cell_type": "code",
   "execution_count": null,
   "metadata": {},
   "outputs": [],
   "source": [
    "dir(my_module)"
   ]
  },
  {
   "cell_type": "code",
   "execution_count": null,
   "metadata": {},
   "outputs": [],
   "source": [
    "def determine_weight(volume, density):\n",
    "    if density <= 0:\n",
    "        raise ValueError(\"Density must be positive\")\n",
    "    # ..."
   ]
  },
  {
   "cell_type": "markdown",
   "metadata": {},
   "source": [
    "* In some cases, using ValueError makes sense, but for APIs it's much more powerful to define your own hierarchyof exceptions.\n",
    "* You can do this by providing a root Exception in your module.\n",
    "* Then, have all other exceptions raised by that module inherit from the root exception."
   ]
  },
  {
   "cell_type": "code",
   "execution_count": null,
   "metadata": {},
   "outputs": [],
   "source": [
    "# # my_module.py\n",
    "class Error(Exception):\n",
    "    \"\"\"Base-class for all exceptions raised by this module.\"\"\"\n",
    "\n",
    "\n",
    "class InvalidDensityError(Error):\n",
    "    \"\"\"There was a problem with a provided density value.\"\"\""
   ]
  },
  {
   "cell_type": "markdown",
   "metadata": {},
   "source": [
    "* Having a root exception in a module makes it easy for consumers of your API to catch all of the exceptions that you raise on purpose."
   ]
  },
  {
   "cell_type": "code",
   "execution_count": null,
   "metadata": {},
   "outputs": [],
   "source": [
    "try:\n",
    "    weight = my_module.determine_weight(1, -1)\n",
    "except my_module.Error as e:\n",
    "    logging.error(f\"Unexpected error: {e!r}\")"
   ]
  },
  {
   "cell_type": "markdown",
   "metadata": {},
   "source": [
    "* This `try/except` prevents your API's exceptions from propagating too far upward and breaking the calling program.\n",
    "* It insulates the calling code from your API.\n",
    "* This insulation has three helpful effects.\n",
    "    1. `root exceptions` let callers understand when there's a problem with their usage of your API.\n",
    "        * If callers are using your API properly, they should catch the various exceptions that you deliberately raise.\n",
    "        * If they don't handle such an exception, it will propagate all the way up to the insulatin gexcept block that catches your module's root exception.\n",
    "   "
   ]
  },
  {
   "cell_type": "code",
   "execution_count": null,
   "metadata": {},
   "outputs": [],
   "source": [
    "try:\n",
    "    weight = my_module.determine_weight(1, -1)\n",
    "except my_module.InvalidDensityError:\n",
    "    weight = 0\n",
    "except my_module.Error as e:\n",
    "    logging.error(f\"Bug in the calling code: {e!r}\")"
   ]
  },
  {
   "cell_type": "markdown",
   "metadata": {},
   "source": [
    " 2. They can help find bugs in your API module's code."
   ]
  },
  {
   "cell_type": "code",
   "execution_count": null,
   "metadata": {},
   "outputs": [],
   "source": [
    "try:\n",
    "    weight = my_module.determine_weight(1, -1)\n",
    "except my_module.InvalidDensityError:\n",
    "    weight = 0\n",
    "except my_module.Error as e:\n",
    "    logging.error(f\"Bug in the calling code: {e!r}\")"
   ]
  },
  {
   "cell_type": "markdown",
   "metadata": {},
   "source": [
    "3. Future-proofing your API.\n",
    "    * Over time, you may want to expand your API to provide more specific exceptions in certain situation."
   ]
  },
  {
   "cell_type": "code",
   "execution_count": null,
   "metadata": {},
   "outputs": [],
   "source": [
    "# my_module.py\n",
    "class NegativeDensityError(InvalidDensityError):\n",
    "    \"\"\"A provided density value was negative\"\"\""
   ]
  },
  {
   "cell_type": "code",
   "execution_count": null,
   "metadata": {},
   "outputs": [],
   "source": [
    "def determine_weight(volume, density):\n",
    "    if density < 0:\n",
    "        raise NegativeDensityError"
   ]
  },
  {
   "cell_type": "markdown",
   "metadata": {},
   "source": [
    "* The calling code will continue to work exactly as before because it already catches InvalidDensityError exceptions (the parent class of NegativeDensityError).\n",
    "* In the future, the caller could decide to special-case the new type of exception and change its behavior accordingly:"
   ]
  },
  {
   "cell_type": "code",
   "execution_count": null,
   "metadata": {},
   "outputs": [],
   "source": [
    "try:\n",
    "    weight = my_module.determine_weight(1, -1)\n",
    "except my_module.NegativeDensityError as e:\n",
    "    raise ValueError(\"Must supply non-negative density\") from e\n",
    "except my_module.InvalidDensityError:\n",
    "    weight = 0\n",
    "except my_module.Error as e:\n",
    "    logging.error(f\"Bug in the calling code: {e!r}\")\n",
    "except Exception as e:\n",
    "    logging.error(f\"Bug in the API code: {e!r}\")\n",
    "    raise"
   ]
  },
  {
   "cell_type": "markdown",
   "metadata": {},
   "source": [
    "* You can take API future-proofing further by providing a broader set of exceptions directly below the root exception.\n",
    "* For example, imagine you had one set of errors related to calculating weights, another related to calculating volume, and a third related to calculating density."
   ]
  },
  {
   "cell_type": "code",
   "execution_count": null,
   "metadata": {},
   "outputs": [],
   "source": [
    "# my_module.py\n",
    "class WeightError(Error):\n",
    "    \"\"\"Base-class for weight calculation errors.\"\"\"\n",
    "    \n",
    "    \n",
    "class VolumeError(Error):\n",
    "    \"\"\"Base-class for volume calculation errors.\"\"\"\n",
    "    \n",
    "    \n",
    "class DensityError(Error):\n",
    "    \"\"\"Base-class for density calculation errors.\"\"\""
   ]
  },
  {
   "cell_type": "markdown",
   "metadata": {},
   "source": [
    "* Specific exceptions would inherit from these general exceptions.\n",
    "* Each intermediate exception acts as its own kind of root exception.\n",
    "* This makes it easier to insulate layers of calling code from API code based on broad functionality.\n",
    "* This is much better than having all callers catch a long list of very specific Exception subclasses."
   ]
  },
  {
   "cell_type": "markdown",
   "metadata": {},
   "source": [
    "### Things to Remember"
   ]
  },
  {
   "cell_type": "markdown",
   "metadata": {},
   "source": [
    "* Defining root exceotions for your modules allows API consumers to insulate themselves from your API.\n",
    "* Catching root exceptions can help you find bugs in code that consumes an API.\n",
    "* Catching the Python Exception base class can help you find bugs in API implementations.\n",
    "* Intermediate root exceptions let you add more specific types of exceptions in the future without breaking your API consumers."
   ]
  },
  {
   "cell_type": "code",
   "execution_count": null,
   "metadata": {},
   "outputs": [],
   "source": []
  }
 ],
 "metadata": {
  "kernelspec": {
   "display_name": "Python 3",
   "language": "python",
   "name": "python3"
  },
  "language_info": {
   "codemirror_mode": {
    "name": "ipython",
    "version": 3
   },
   "file_extension": ".py",
   "mimetype": "text/x-python",
   "name": "python",
   "nbconvert_exporter": "python",
   "pygments_lexer": "ipython3",
   "version": "3.8.2"
  }
 },
 "nbformat": 4,
 "nbformat_minor": 4
}

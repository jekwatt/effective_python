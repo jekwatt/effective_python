{
 "cells": [
  {
   "cell_type": "markdown",
   "metadata": {},
   "source": [
    "### Item 48: Know Where to Find Community-Built Modules"
   ]
  },
  {
   "cell_type": "markdown",
   "metadata": {},
   "source": [
    "* Python has a central repository of modules:\n",
    "    * https://pypi.python.org\n",
    "    * The Python Package Index (PyPI) is a great place to look for code.\n",
    "    * To use the Package Index, you'll need to use a command-line tool named `pip`."
   ]
  },
  {
   "cell_type": "markdown",
   "metadata": {},
   "source": [
    "* Using `pip` to install a new module is simple.\n",
    "    * e.g.\n",
    "        * pip install pytz"
   ]
  },
  {
   "cell_type": "markdown",
   "metadata": {},
   "source": [
    "* I use `conda` to install python modules:\n",
    "    * conda search package\n",
    "    * conda install package\n",
    "    * e.g.\n",
    "        * conda install pytz "
   ]
  },
  {
   "cell_type": "markdown",
   "metadata": {},
   "source": [
    "* The majority of popular packages are available via `pip`:\n",
    "    * See `Item 1`: Know Which Version of Python You're Using."
   ]
  },
  {
   "cell_type": "markdown",
   "metadata": {},
   "source": [
    "* `pip` can also be used with `pyenv` to track sets of packages to install for your projects.\n",
    "    * See `Item 53`: Use virtual environments for isolated and Reproducible Dependencies."
   ]
  },
  {
   "cell_type": "markdown",
   "metadata": {},
   "source": [
    "* To create an environment with `conda`:\n",
    "    * conda create -n myenv python=3.8 pip\n",
    "    * conda activate myenv\n",
    "    * conda install jupyter pandas numpy \n",
    "    * jupyter lab"
   ]
  },
  {
   "cell_type": "markdown",
   "metadata": {},
   "source": [
    "* Each module in the `PyPI` has its own software license.\n",
    "* Most of the packages, especially the popular ones, have free or open source licenses:\n",
    "    * See http://opensource.org for details.\n",
    "    * In most cases, these licenses allow you to include a copy of the module with your program."
   ]
  },
  {
   "cell_type": "markdown",
   "metadata": {},
   "source": [
    "### Things to Remember"
   ]
  },
  {
   "cell_type": "markdown",
   "metadata": {},
   "source": [
    "* The Python Package Index (`PyPI`) contains a wealth of common packages that are built and maintained by the Python community.\n",
    "* `pip` is the command-line tool to use for installing packages from PyPI.\n",
    "* `pip` is installed by default in Python 3.4 and above.\n",
    "    * You must install it yourself for older versions.\n",
    "* The majority of `PyPI` modules are free and open source software."
   ]
  },
  {
   "cell_type": "code",
   "execution_count": null,
   "metadata": {},
   "outputs": [],
   "source": []
  }
 ],
 "metadata": {
  "kernelspec": {
   "display_name": "Python 3",
   "language": "python",
   "name": "python3"
  },
  "language_info": {
   "codemirror_mode": {
    "name": "ipython",
    "version": 3
   },
   "file_extension": ".py",
   "mimetype": "text/x-python",
   "name": "python",
   "nbconvert_exporter": "python",
   "pygments_lexer": "ipython3",
   "version": "3.8.2"
  }
 },
 "nbformat": 4,
 "nbformat_minor": 4
}

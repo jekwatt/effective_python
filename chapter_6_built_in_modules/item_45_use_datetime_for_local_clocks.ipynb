{
 "cells": [
  {
   "cell_type": "markdown",
   "metadata": {},
   "source": [
    "### Item 45: Use datetime Instead of time for Local Clocks"
   ]
  },
  {
   "cell_type": "markdown",
   "metadata": {},
   "source": [
    "* Coordinated Universal Time (UTC) is the standard, time-zone-independent representation of time.\n",
    "* UTC works great for computers that represent time as seconds since the UNIX epoch.\n",
    "* But UTC isn't ideal for humans.\n",
    "* Humans reference time relative to where they're currently located."
   ]
  },
  {
   "cell_type": "markdown",
   "metadata": {},
   "source": [
    "* Time zone conversions\n",
    "\n",
    "    * Python provides two ways of accomplishing time zone conversions.\n",
    "        * The old way, using the `time` built-in module, is disastrously error prone.\n",
    "        * The new way, using the `datetime`built-in module, works great with some help from the community-built package `pytz`.\n",
    "        * You should be acquainted with both `time` and `datetime` to thoroughly understand why `datetime` is the best choice and `time` should be avoided."
   ]
  },
  {
   "cell_type": "code",
   "execution_count": null,
   "metadata": {},
   "outputs": [],
   "source": [
    "from datetime import date, time, datetime\n",
    "from time import strptime, strftime\n",
    "\n",
    "import pytz"
   ]
  },
  {
   "cell_type": "markdown",
   "metadata": {},
   "source": [
    "#### Creating datetime instances\n",
    "\n",
    "https://realpython.com/python-datetime/#creating-python-datetime-instances"
   ]
  },
  {
   "cell_type": "markdown",
   "metadata": {},
   "source": [
    "#1 by passing keyword arguments"
   ]
  },
  {
   "cell_type": "code",
   "execution_count": null,
   "metadata": {},
   "outputs": [],
   "source": [
    "dt = datetime(year=2020, month=8, day=5, hour=13, minute=14, second=31)\n",
    "dt"
   ]
  },
  {
   "cell_type": "markdown",
   "metadata": {},
   "source": [
    "#2 There are three ways of creating datetime instances\n",
    "* `date.today()`: creates a datetime.date instance with the current local date\n",
    "* `datetime.now()`: creates a datetime.datetime instance with the current local date and time\n",
    "* `datetime.combine()`: combines instances of datetime.date and datetime.time into a single datetime.datetime instance."
   ]
  },
  {
   "cell_type": "code",
   "execution_count": null,
   "metadata": {},
   "outputs": [],
   "source": [
    "today = date.today()\n",
    "today"
   ]
  },
  {
   "cell_type": "code",
   "execution_count": null,
   "metadata": {},
   "outputs": [],
   "source": [
    "now = datetime.now()\n",
    "now"
   ]
  },
  {
   "cell_type": "code",
   "execution_count": null,
   "metadata": {},
   "outputs": [],
   "source": [
    "current_time = time(now.hour, now.minute, now.second)\n",
    "print(current_time)\n",
    "\n",
    "dt_combine = datetime.combine(today, current_time)\n",
    "dt_combine"
   ]
  },
  {
   "cell_type": "markdown",
   "metadata": {},
   "source": [
    "#3 Using Strings to Create Python datetime Instance\n",
    "\n",
    "* Another way to create date instances is to use .fromisoformat(). To use this method, you provide a string with the date in the ISO 8601 format.\n",
    "* You might provide a string with the year, month, and date specified."
   ]
  },
  {
   "cell_type": "code",
   "execution_count": null,
   "metadata": {},
   "outputs": [],
   "source": [
    "d = date.fromisoformat(\"2020-08-05\")\n",
    "d"
   ]
  },
  {
   "cell_type": "markdown",
   "metadata": {},
   "source": [
    "#### strptime"
   ]
  },
  {
   "cell_type": "markdown",
   "metadata": {},
   "source": [
    "* Parse the datetime string to time tuple"
   ]
  },
  {
   "cell_type": "code",
   "execution_count": null,
   "metadata": {},
   "outputs": [],
   "source": [
    "time_format = \"%Y-%m-%d %H:%M:%S\"\n",
    "time_str = \"2020-08-05 15:45:16\""
   ]
  },
  {
   "cell_type": "code",
   "execution_count": null,
   "metadata": {},
   "outputs": [],
   "source": [
    "time_tuple = strptime(time_str, time_format)"
   ]
  },
  {
   "cell_type": "code",
   "execution_count": null,
   "metadata": {},
   "outputs": [],
   "source": [
    "time_tuple"
   ]
  },
  {
   "cell_type": "markdown",
   "metadata": {},
   "source": [
    "#### strftime\n",
    "\n",
    "* format a time tuple to a string (style string)"
   ]
  },
  {
   "cell_type": "raw",
   "metadata": {},
   "source": [
    "strftime(format[, tuple]) -> string\n",
    "\n",
    "Convert a time tuple to a string according to a format specification.\n",
    "See the library reference manual for formatting codes. When the time tuple\n",
    "is not present, current time as returned by localtime() is used.\n",
    "\n",
    "Commonly used format codes:\n",
    "\n",
    "%Y  Year with century as a decimal number.\n",
    "%m  Month as a decimal number [01,12].\n",
    "%d  Day of the month as a decimal number [01,31].\n",
    "%H  Hour (24-hour clock) as a decimal number [00,23].\n",
    "%M  Minute as a decimal number [00,59].\n",
    "%S  Second as a decimal number [00,61].\n",
    "%z  Time zone offset from UTC.\n",
    "%a  Locale's abbreviated weekday name.\n",
    "%A  Locale's full weekday name.\n",
    "%b  Locale's abbreviated month name.\n",
    "%B  Locale's full month name.\n",
    "%c  Locale's appropriate date and time representation.\n",
    "%I  Hour (12-hour clock) as a decimal number [01,12].\n",
    "%p  Locale's equivalent of either AM or PM."
   ]
  },
  {
   "cell_type": "raw",
   "metadata": {},
   "source": [
    "In format_string, you include several formatting codes and all of the dashes (-), colons (:), and spaces exactly as they appear in date_string. \n",
    "\n",
    "To process the date and time in date_string, you include the following formatting codes:\n",
    "Component\tCode\tValue\n",
    "Year (as four-digit integer )\t%Y\t2020\n",
    "Month (as zero-padded decimal)\t%m\t08\n",
    "Date (as zero-padded decimal)\t%d\t05\n",
    "Hour (as zero-padded decimal with 24-hour clock)\t%H\t14\n",
    "Minute (as zero-padded decimal)\t%M\t45\n",
    "Second (as zero-padded decimal)\t%S\t37"
   ]
  },
  {
   "cell_type": "code",
   "execution_count": null,
   "metadata": {},
   "outputs": [],
   "source": [
    "d = datetime.now()\n",
    "time_tuple = d.timetuple()\n",
    "print(time_tuple)"
   ]
  },
  {
   "cell_type": "code",
   "execution_count": null,
   "metadata": {},
   "outputs": [],
   "source": [
    "time_str = strftime(time_format, time_tuple)"
   ]
  },
  {
   "cell_type": "code",
   "execution_count": null,
   "metadata": {},
   "outputs": [],
   "source": [
    "time_str"
   ]
  },
  {
   "cell_type": "markdown",
   "metadata": {},
   "source": [
    "#### The time module"
   ]
  },
  {
   "cell_type": "markdown",
   "metadata": {},
   "source": [
    "* The `localtime` function from the `time` built-in module lets you convert:\n",
    "    * UNIX timestamp (seconds since the UNIX epoch in UTC) to a local time that matches the host computer's time zone."
   ]
  },
  {
   "cell_type": "code",
   "execution_count": null,
   "metadata": {},
   "outputs": [],
   "source": [
    "from time import localtime, strftime \n",
    "\n",
    "now = 1407694710\n",
    "local_tuple = localtime(now)\n",
    "print(local_tuple)"
   ]
  },
  {
   "cell_type": "code",
   "execution_count": null,
   "metadata": {},
   "outputs": [],
   "source": [
    "time_format = \"%Y-%m-%d %H:%M:%S\"\n",
    "time_str = strftime(time_format, local_tuple)\n",
    "print(time_str)"
   ]
  },
  {
   "cell_type": "markdown",
   "metadata": {},
   "source": [
    "* Conver user input local time to UNIX timestamp\n",
    "    * Use strptime function to parse the time string. \n",
    "    * Then, call mktime to convert local time to UNIX timestamp"
   ]
  },
  {
   "cell_type": "code",
   "execution_count": null,
   "metadata": {},
   "outputs": [],
   "source": [
    "from time import mktime, strptime\n",
    "\n",
    "time_tuple = strptime(time_str, time_format)\n",
    "print(time_tuple)"
   ]
  },
  {
   "cell_type": "code",
   "execution_count": null,
   "metadata": {},
   "outputs": [],
   "source": [
    "utc_now = mktime(time_tuple)\n",
    "print(utc_now)"
   ]
  },
  {
   "cell_type": "markdown",
   "metadata": {},
   "source": [
    "* The `time` module fails to consistently work properly for multiple local times.\n",
    "* If you must use `time`, only use it to convert between UTC and the host computer's local time.\n",
    "* For all other types of conversions, use the `datetime` module."
   ]
  },
  {
   "cell_type": "markdown",
   "metadata": {},
   "source": [
    "#### The datetime module"
   ]
  },
  {
   "cell_type": "markdown",
   "metadata": {},
   "source": [
    "* The second option for representing times in Python is the `datetime` class from the `datetime` built-in module.\n",
    "* Like the `time` module, datetime can be used to convert from the current time in UTC to local time."
   ]
  },
  {
   "cell_type": "markdown",
   "metadata": {},
   "source": [
    "* Take the present time in UTC and conver it to my computer's local time (CST)"
   ]
  },
  {
   "cell_type": "code",
   "execution_count": null,
   "metadata": {},
   "outputs": [],
   "source": [
    "from datetime import datetime, timezone\n",
    "\n",
    "now = datetime.now()\n",
    "now"
   ]
  },
  {
   "cell_type": "code",
   "execution_count": null,
   "metadata": {},
   "outputs": [],
   "source": [
    "now_utc = now.replace(tzinfo=timezone.utc)\n",
    "print(now_utc)"
   ]
  },
  {
   "cell_type": "code",
   "execution_count": null,
   "metadata": {},
   "outputs": [],
   "source": [
    "now_local = now_utc.astimezone()\n",
    "print(now_local)"
   ]
  },
  {
   "cell_type": "markdown",
   "metadata": {},
   "source": [
    "* The `datetime` module can also easily convert a local time back to a `UNIX timestamp` in UTC."
   ]
  },
  {
   "cell_type": "code",
   "execution_count": null,
   "metadata": {},
   "outputs": [],
   "source": [
    "time_str"
   ]
  },
  {
   "cell_type": "code",
   "execution_count": null,
   "metadata": {},
   "outputs": [],
   "source": [
    "now"
   ]
  },
  {
   "cell_type": "code",
   "execution_count": null,
   "metadata": {},
   "outputs": [],
   "source": [
    "time_tuple"
   ]
  },
  {
   "cell_type": "code",
   "execution_count": null,
   "metadata": {},
   "outputs": [],
   "source": [
    "utc_now = mktime(time_tuple)\n",
    "utc_now"
   ]
  },
  {
   "cell_type": "markdown",
   "metadata": {},
   "source": [
    "* Unlike the `time` module, the `datetime` module has facilities for reliable converting from one local time to another local time.\n",
    "* However, `datetime` only provides the machinery for time zone operations with its `tzinfo` classes and related methods.\n",
    "* What's missing are the time zone definitions besides UTC."
   ]
  },
  {
   "cell_type": "markdown",
   "metadata": {},
   "source": [
    "* `pytz` contains a full database of every time zone definition you might need.\n",
    "\n",
    "    * https://pypi.python.org/pypi/pytz/\n",
    "    \n",
    "   \n",
    "* To use `pytz` effectively, you should always convert local times to UTC first. [important!]\n",
    "* Perform any datetime operations you need on the UTC values (such as offsetting).\n",
    "* Then, convert to local times as a final step.\n",
    "\n",
    "e.g.\n",
    "* Convert an NYC flight arrival time to UTC datetime.\n",
    "* Although some of these calls seem redundant, all of them are necessary when using `pytz`."
   ]
  },
  {
   "cell_type": "code",
   "execution_count": null,
   "metadata": {},
   "outputs": [],
   "source": [
    "arrival_nyc = \"2020-08-05 23:33:24\"\n",
    "nyc_dt_naive = datetime.strptime(arrival_nyc, time_format)\n",
    "\n",
    "eastern = pytz.timezone(\"US/Eastern\")\n",
    "nyc_dt = eastern.localize(nyc_dt_naive)\n",
    "\n",
    "utc_dt = pytz.utc.normalize(nyc_dt.astimezone(pytz.utc))"
   ]
  },
  {
   "cell_type": "code",
   "execution_count": null,
   "metadata": {},
   "outputs": [],
   "source": [
    "print(utc_dt)"
   ]
  },
  {
   "cell_type": "markdown",
   "metadata": {},
   "source": [
    "* Once I have a UTC datetime, I can convert it to Houston local time."
   ]
  },
  {
   "cell_type": "code",
   "execution_count": null,
   "metadata": {},
   "outputs": [],
   "source": [
    "central = pytz.timezone(\"US/Central\")\n",
    "houston_dt = central.normalize(utc_dt.astimezone(central))"
   ]
  },
  {
   "cell_type": "code",
   "execution_count": null,
   "metadata": {},
   "outputs": [],
   "source": [
    "print(houston_dt)"
   ]
  },
  {
   "cell_type": "markdown",
   "metadata": {},
   "source": [
    "* Just as easily, I can convert it to the local time in Nepal."
   ]
  },
  {
   "cell_type": "code",
   "execution_count": null,
   "metadata": {},
   "outputs": [],
   "source": [
    "nepal = pytz.timezone(\"Asia/Katmandu\")\n",
    "nepal_dt = nepal.normalize(utc_dt.astimezone(nepal))"
   ]
  },
  {
   "cell_type": "code",
   "execution_count": null,
   "metadata": {},
   "outputs": [],
   "source": [
    "print(nepal_dt)"
   ]
  },
  {
   "cell_type": "markdown",
   "metadata": {},
   "source": [
    "* With `datetime` and `pytz`, these conversions are consistent across all environments regardless of what operating system the host computer is running."
   ]
  },
  {
   "cell_type": "markdown",
   "metadata": {},
   "source": [
    "### Things to Remember"
   ]
  },
  {
   "cell_type": "markdown",
   "metadata": {},
   "source": [
    "* Avoid using the `time` module for translating between different time zones.\n",
    "* Use the `datetime` built-in module along with the `pytz` module to reliably convert between times in different time zones.\n",
    "* Always represent time in UTC and do conversions to local time as the final step before presentation."
   ]
  },
  {
   "cell_type": "code",
   "execution_count": null,
   "metadata": {},
   "outputs": [],
   "source": []
  }
 ],
 "metadata": {
  "kernelspec": {
   "display_name": "Python 3",
   "language": "python",
   "name": "python3"
  },
  "language_info": {
   "codemirror_mode": {
    "name": "ipython",
    "version": 3
   },
   "file_extension": ".py",
   "mimetype": "text/x-python",
   "name": "python",
   "nbconvert_exporter": "python",
   "pygments_lexer": "ipython3",
   "version": "3.8.2"
  }
 },
 "nbformat": 4,
 "nbformat_minor": 4
}

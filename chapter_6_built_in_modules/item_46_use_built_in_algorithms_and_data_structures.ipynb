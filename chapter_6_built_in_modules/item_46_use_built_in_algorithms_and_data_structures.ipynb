{
 "cells": [
  {
   "cell_type": "markdown",
   "metadata": {},
   "source": [
    "### Item 46: Use Built-in Algorithms and Data Structures"
   ]
  },
  {
   "cell_type": "markdown",
   "metadata": {},
   "source": [
    "* When you're implementing Python parograms that handle a non-trivial amount of data, you'll eventually see slowdowns caused by the algorithmic complexity of your code.\n",
    "* This usually isn't the result of Python's spped as a language.\n",
    "    * See `Item 41`: Consider concurrent.future for True Parallelism\n",
    "* The issue, more likely, is that you aren't using the best algorithms and data structures for your problem."
   ]
  },
  {
   "cell_type": "markdown",
   "metadata": {},
   "source": [
    "* The Python standard library has many of the algorithms and data structures you'll need build in.\n",
    "* Besides speed, using these common algorithms and data structures can make your life easier.\n",
    "* Some of the most valuable tools you may want to use are tricky to implement correctly.\n",
    "* Avoiding reimplementation of common functionality will save you time and headache."
   ]
  },
  {
   "cell_type": "markdown",
   "metadata": {},
   "source": [
    "#### Double-ended Queue"
   ]
  },
  {
   "cell_type": "markdown",
   "metadata": {},
   "source": [
    "* The `deque` class from the `collections` module is a double-ended queue.\n",
    "* It provides constant time operations for inserting and removing items from its beginning or end.\n",
    "* This makes it ideal for first-in-first-out (FIFO) queues."
   ]
  },
  {
   "cell_type": "code",
   "execution_count": null,
   "metadata": {},
   "outputs": [],
   "source": [
    "from collections import deque, OrderedDict"
   ]
  },
  {
   "cell_type": "code",
   "execution_count": null,
   "metadata": {},
   "outputs": [],
   "source": [
    "fifo = deque()"
   ]
  },
  {
   "cell_type": "code",
   "execution_count": null,
   "metadata": {},
   "outputs": [],
   "source": [
    "dir(fifo)"
   ]
  },
  {
   "cell_type": "code",
   "execution_count": null,
   "metadata": {},
   "outputs": [],
   "source": [
    "fifo.append(1)  # Producer"
   ]
  },
  {
   "cell_type": "code",
   "execution_count": null,
   "metadata": {},
   "outputs": [],
   "source": [
    "x = fifo.popleft()  # Consumer"
   ]
  },
  {
   "cell_type": "code",
   "execution_count": null,
   "metadata": {},
   "outputs": [],
   "source": [
    "x"
   ]
  },
  {
   "cell_type": "markdown",
   "metadata": {},
   "source": [
    "* Playing more"
   ]
  },
  {
   "cell_type": "code",
   "execution_count": null,
   "metadata": {},
   "outputs": [],
   "source": [
    "fifo.append(2)\n",
    "fifo"
   ]
  },
  {
   "cell_type": "code",
   "execution_count": null,
   "metadata": {},
   "outputs": [],
   "source": [
    "fifo.append(2)"
   ]
  },
  {
   "cell_type": "code",
   "execution_count": null,
   "metadata": {},
   "outputs": [],
   "source": [
    "fifo.appendleft(\"al\")\n",
    "fifo"
   ]
  },
  {
   "cell_type": "code",
   "execution_count": null,
   "metadata": {},
   "outputs": [],
   "source": [
    "fifo.count(2)  # count of value"
   ]
  },
  {
   "cell_type": "code",
   "execution_count": null,
   "metadata": {},
   "outputs": [],
   "source": [
    "fifo.extend(\"e\")\n",
    "fifo"
   ]
  },
  {
   "cell_type": "code",
   "execution_count": null,
   "metadata": {},
   "outputs": [],
   "source": [
    "fifo.extendleft(\"el\")  # \"e\", \"l\"\n",
    "fifo"
   ]
  },
  {
   "cell_type": "code",
   "execution_count": null,
   "metadata": {},
   "outputs": [],
   "source": [
    "fifo.extendleft(\"al\")  # \"e\", \"l\"\n",
    "fifo"
   ]
  },
  {
   "cell_type": "code",
   "execution_count": null,
   "metadata": {},
   "outputs": [],
   "source": [
    "fifo.insert(1, 2)\n",
    "fifo"
   ]
  },
  {
   "cell_type": "code",
   "execution_count": null,
   "metadata": {},
   "outputs": [],
   "source": [
    "fifo.index(\"l\")"
   ]
  },
  {
   "cell_type": "markdown",
   "metadata": {},
   "source": [
    "* Once a bounded length deque is full, when new items are added, a corresponding number of items are discarded from the opposite end.\n",
    "    * Bounded length deques provide functionality similar to the `tail` filter in `Unix`. \n",
    "    * They are also useful for tracking transactions and other pools of data where only the most recent activity is of interest."
   ]
  },
  {
   "cell_type": "code",
   "execution_count": null,
   "metadata": {},
   "outputs": [],
   "source": [
    "d = deque([1,2,3,4,5,6], maxlen=3)\n",
    "d"
   ]
  },
  {
   "cell_type": "code",
   "execution_count": null,
   "metadata": {},
   "outputs": [],
   "source": [
    "fifo.pop()"
   ]
  },
  {
   "cell_type": "code",
   "execution_count": null,
   "metadata": {},
   "outputs": [],
   "source": [
    "fifo.count('l')"
   ]
  },
  {
   "cell_type": "code",
   "execution_count": null,
   "metadata": {},
   "outputs": [],
   "source": [
    "fifo"
   ]
  },
  {
   "cell_type": "code",
   "execution_count": null,
   "metadata": {},
   "outputs": [],
   "source": [
    "fifo.remove('l')  # remove one from the beginning"
   ]
  },
  {
   "cell_type": "code",
   "execution_count": null,
   "metadata": {},
   "outputs": [],
   "source": [
    "fifo.count('l')"
   ]
  },
  {
   "cell_type": "code",
   "execution_count": null,
   "metadata": {},
   "outputs": [],
   "source": [
    "fifo"
   ]
  },
  {
   "cell_type": "code",
   "execution_count": null,
   "metadata": {},
   "outputs": [],
   "source": [
    "fifo.reverse()\n",
    "fifo"
   ]
  },
  {
   "cell_type": "code",
   "execution_count": null,
   "metadata": {},
   "outputs": [],
   "source": [
    "fifo.rotate(-2)\n",
    "fifo"
   ]
  },
  {
   "cell_type": "markdown",
   "metadata": {},
   "source": [
    "* The `list` built-in type also contains an ordered sequence of items like a queue.\n",
    "* You can insert or remove items from the end of a list in constant time.\n",
    "* But inserting or removing items from the head of a list takes linear time, which os much slower than the constant time of a queue."
   ]
  },
  {
   "cell_type": "markdown",
   "metadata": {},
   "source": [
    "#### Ordered Dictionary"
   ]
  },
  {
   "cell_type": "markdown",
   "metadata": {},
   "source": [
    " * As of Python 3.6, for the CPython implementation of Python, dictionaries remember the order of items inserted. \n",
    "    * This is considered an implementation detail in Python 3.6.\n",
    "    * You need to use OrderedDict if you want insertion ordering that's guaranteed across other implementations of Python (and other ordered behavior\n",
    "    \n",
    "* Dicts retaining insertion order is guaranteed for Python 3.7.\n",
    "    * As of Python 3.7 dicts in all Python implementations must preserve insertion order.\n",
    "    \n",
    "* If you want your code to run the same on 2.7 and 3.6/3.7+, you need to use OrderedDict."
   ]
  },
  {
   "cell_type": "markdown",
   "metadata": {},
   "source": [
    "* Question 1\n",
    "\n",
    "    * Would this mean that OrderedDict will become redundant?"
   ]
  },
  {
   "cell_type": "markdown",
   "metadata": {},
   "source": [
    "* No it won't become redundant in Python 3.7 because OrderedDict is not just a dict that retains insertion order.\n",
    "* It also offers an order dependent method, `OrderedDict.move_to_end()`, and supports `reversed()` iteration.\n",
    "    * Support for `reversed()` iteration of regular Python `dict` is added for Python 3.8\n",
    "\n",
    "\n",
    "* Equality comparisons with `OrderedDict` are order sensitive and this is still not the case for `dict` in Python 3.7 and 3.8."
   ]
  },
  {
   "cell_type": "code",
   "execution_count": null,
   "metadata": {},
   "outputs": [],
   "source": [
    "import sys\n",
    "\n",
    "!python --version"
   ]
  },
  {
   "cell_type": "code",
   "execution_count": null,
   "metadata": {},
   "outputs": [],
   "source": [
    "from collections import OrderedDict\n",
    "\n",
    "OrderedDict([(1,1), (2,2)]) == OrderedDict([(2,2), (1,1)])"
   ]
  },
  {
   "cell_type": "code",
   "execution_count": null,
   "metadata": {},
   "outputs": [],
   "source": [
    "dict([(1,1), (2,2)]) == dict([(2,2), (1,1)])"
   ]
  },
  {
   "cell_type": "markdown",
   "metadata": {},
   "source": [
    "* Standard dictionary"
   ]
  },
  {
   "cell_type": "code",
   "execution_count": null,
   "metadata": {},
   "outputs": [],
   "source": [
    "a = {}\n",
    "a[\"foo\"] = 1\n",
    "a[\"bar\"] = 2"
   ]
  },
  {
   "cell_type": "code",
   "execution_count": null,
   "metadata": {},
   "outputs": [],
   "source": [
    "from random import randint\n",
    "\n",
    "z = randint(99, 1013)\n",
    "b = {}\n",
    "for i in range(z):\n",
    "    b[i] = i\n",
    "    \n",
    "b[\"foo\"] = 1\n",
    "b[\"bar\"] = 2\n",
    "\n",
    "for i in range(z):\n",
    "    del b[i]"
   ]
  },
  {
   "cell_type": "code",
   "execution_count": null,
   "metadata": {},
   "outputs": [],
   "source": [
    "str(b) == str(a)"
   ]
  },
  {
   "cell_type": "code",
   "execution_count": null,
   "metadata": {},
   "outputs": [],
   "source": [
    "print(a)"
   ]
  },
  {
   "cell_type": "code",
   "execution_count": null,
   "metadata": {},
   "outputs": [],
   "source": [
    "print(b)"
   ]
  },
  {
   "cell_type": "code",
   "execution_count": null,
   "metadata": {},
   "outputs": [],
   "source": [
    "print(a == b)"
   ]
  },
  {
   "cell_type": "markdown",
   "metadata": {},
   "source": [
    "* OrderDict"
   ]
  },
  {
   "cell_type": "markdown",
   "metadata": {},
   "source": [
    "* The `OrderedDict` class from the `collections`module is a special type of dictionary that keeps track of the order in which its keys were inserted.\n",
    "* Iteratimg the keys of an `OrderedDict` has predictable behavior.\n",
    "* This can vastly simplify testing and debugging by making all code deterministic."
   ]
  },
  {
   "cell_type": "code",
   "execution_count": null,
   "metadata": {},
   "outputs": [],
   "source": [
    "a = OrderedDict()"
   ]
  },
  {
   "cell_type": "code",
   "execution_count": null,
   "metadata": {},
   "outputs": [],
   "source": [
    "a[\"foo\"] = 1\n",
    "a[\"bar\"] = 2"
   ]
  },
  {
   "cell_type": "code",
   "execution_count": null,
   "metadata": {},
   "outputs": [],
   "source": [
    "b = OrderedDict()"
   ]
  },
  {
   "cell_type": "code",
   "execution_count": null,
   "metadata": {},
   "outputs": [],
   "source": [
    "b[\"foo\"] = \"red\"\n",
    "b[\"bar\"] = \"blue\""
   ]
  },
  {
   "cell_type": "code",
   "execution_count": null,
   "metadata": {},
   "outputs": [],
   "source": [
    "for value1, value2 in zip(a.values(), b.values()):\n",
    "    print(value1, value2)"
   ]
  },
  {
   "cell_type": "markdown",
   "metadata": {},
   "source": [
    "#### Default Dictionary"
   ]
  },
  {
   "cell_type": "markdown",
   "metadata": {},
   "source": [
    "* Dictionaries are useful for bookkeeping and tracking statistics.\n",
    "* One problem with dictionaries is that you can't assume any keys are already present.\n",
    "* That makes it clumsy to do simple things like increment a counter stored in a dictionary."
   ]
  },
  {
   "cell_type": "code",
   "execution_count": null,
   "metadata": {},
   "outputs": [],
   "source": [
    "stats = {}\n",
    "key = \"my_counter\"\n",
    "\n",
    "if key not in stats:\n",
    "    stats[key] = 0\n",
    "stats[key] += 1"
   ]
  },
  {
   "cell_type": "code",
   "execution_count": null,
   "metadata": {},
   "outputs": [],
   "source": [
    "stats"
   ]
  },
  {
   "cell_type": "markdown",
   "metadata": {},
   "source": [
    "* The `defaultdict` class from the `collections` module simplifies this by automatically storing a default value when a key doesn't exist.\n",
    "* All you have to do is privide a function that will return the default value each time a key is missing.\n",
    "    * See `Item 23`: Accept Functions for Simple Interfaces Instead of Classes\n",
    "    * Now, incrementing a counter is simple."
   ]
  },
  {
   "cell_type": "code",
   "execution_count": null,
   "metadata": {},
   "outputs": [],
   "source": [
    "from collections import defaultdict\n",
    "\n",
    "stats = defaultdict(int)\n",
    "stats[\"my_counter\"] += 1"
   ]
  },
  {
   "cell_type": "code",
   "execution_count": null,
   "metadata": {},
   "outputs": [],
   "source": [
    "stats"
   ]
  },
  {
   "cell_type": "markdown",
   "metadata": {},
   "source": [
    "#### Heap Queue"
   ]
  },
  {
   "cell_type": "markdown",
   "metadata": {},
   "source": [
    "* Heaps are useful data structures for maintaining a priority queue.\n",
    "* The `heapq` module provides functions for creating heaps in standard list types with functions like `heappush`, `heappop`, and `nsmallest`.\n",
    "* Items of any priority can be inserted into the heap in any order."
   ]
  },
  {
   "cell_type": "code",
   "execution_count": null,
   "metadata": {},
   "outputs": [],
   "source": [
    "from heapq import heappush, heappop, nsmallest\n",
    "\n",
    "a = []\n",
    "heappush(a, 5)\n",
    "heappush(a, 3)\n",
    "heappush(a, 7)\n",
    "heappush(a, 4)"
   ]
  },
  {
   "cell_type": "markdown",
   "metadata": {},
   "source": [
    "* Items are always removed by highest priority (lowest number) first."
   ]
  },
  {
   "cell_type": "code",
   "execution_count": null,
   "metadata": {},
   "outputs": [],
   "source": [
    "print(heappop(a), heappop(a), heappop(a), heappop(a))"
   ]
  },
  {
   "cell_type": "markdown",
   "metadata": {},
   "source": [
    "* The resulting list is easy to use outside of heapq.\n",
    "* Accessing the 0 index of the heap will always return the smallest item.[important!]"
   ]
  },
  {
   "cell_type": "code",
   "execution_count": null,
   "metadata": {},
   "outputs": [],
   "source": [
    "a = []\n",
    "heappush(a, 5)\n",
    "heappush(a, 3)\n",
    "heappush(a, 7)\n",
    "heappush(a, 4)\n",
    "assert a[0] == nsmallest(1, a)[0] == 3"
   ]
  },
  {
   "cell_type": "markdown",
   "metadata": {},
   "source": [
    "* Calling the sort method on the list maintains the heap invariant."
   ]
  },
  {
   "cell_type": "code",
   "execution_count": null,
   "metadata": {},
   "outputs": [],
   "source": [
    "print('Before: ', a)\n",
    "a.sort()\n",
    "print('After: ', a)"
   ]
  },
  {
   "cell_type": "markdown",
   "metadata": {},
   "source": [
    "* Each of these heapq operations takes logarithmic time in proportion to the length of the list.\n",
    "* Doing the same work with a standard Python list would scale linearly."
   ]
  },
  {
   "cell_type": "markdown",
   "metadata": {},
   "source": [
    "#### Bisection\n",
    "\n",
    "https://docs.python.org/3/library/bisect.html"
   ]
  },
  {
   "cell_type": "markdown",
   "metadata": {},
   "source": [
    "* Searching for an item in a list takes linear time proportion to its length when you call the `index` method."
   ]
  },
  {
   "cell_type": "code",
   "execution_count": null,
   "metadata": {},
   "outputs": [],
   "source": [
    "x = list(range(10**6))\n",
    "i = x.index(991234)"
   ]
  },
  {
   "cell_type": "code",
   "execution_count": null,
   "metadata": {},
   "outputs": [],
   "source": [
    "i"
   ]
  },
  {
   "cell_type": "markdown",
   "metadata": {},
   "source": [
    "* The `bisect` module's functions, such as `bisect_left` provide an efficient binary search through a sequence of sorted items.\n",
    "* The index it returns is the insertion point of the value into the sequence."
   ]
  },
  {
   "cell_type": "code",
   "execution_count": null,
   "metadata": {},
   "outputs": [],
   "source": [
    "from bisect import bisect_left\n",
    "\n",
    "i = bisect_left(x, 991234)"
   ]
  },
  {
   "cell_type": "code",
   "execution_count": null,
   "metadata": {},
   "outputs": [],
   "source": [
    "i"
   ]
  },
  {
   "cell_type": "markdown",
   "metadata": {},
   "source": [
    "* The complexity of a binary search is logarithmic.\n",
    "* That means using `bisect` to search a list of 1 million items takes roughly the same amount of time as using `index` to linearly search a list of 14 items.\n",
    "* It's way faster!"
   ]
  },
  {
   "cell_type": "markdown",
   "metadata": {},
   "source": [
    "#### Iterator Tools"
   ]
  },
  {
   "cell_type": "markdown",
   "metadata": {},
   "source": [
    "* The `itertools` built-in module contains a large number of functions that are useful for organizing and interacting with `iterators.\n",
    "    * See `Item 16`: Consider Generators Instead of Returning Lists.\n",
    "    * `Item 17`: Be Defensive When Iterating Over Arguments (for background)."
   ]
  },
  {
   "cell_type": "markdown",
   "metadata": {},
   "source": [
    "* The `itertools` functions fall into three main categories:\n",
    "    * Linking iterators together\n",
    "        * `chain`: Combines multiple iterators into a single sequential iterator.\n",
    "        * `cycle`: Repeats an iterator's items forever.\n",
    "        * `tee`: Splits a single iterator into multiple parallel iterators.\n",
    "        * `zip_longest`: A variant of the `zip` built-in function tht works well with iterators of different lengths.\n",
    "      \n",
    "    * Filtering items from an iterator\n",
    "        * `islice`: Slices an iterator by numerical indexes without copying.\n",
    "        * `takewhile`: Returns items from an iterator while a predicate function returns True.\n",
    "        * `dropwhile`: Returns items from an iterator once the predicate function returns False for the first time.\n",
    "        * `filterfalse`: Returns all items from an iterator where a predicate function returns False.  The opposite of the `filter` built-in function.\n",
    "\n",
    "    * Combination of items from iterators\n",
    "        * `product`: Returns the Cartesian product of items from an iterator, which is a nice alternative to deeply nested list comprehensions.\n",
    "        * `permutations`: Returns ordered permutations of length N with items from an iterator.\n",
    "        * `combination`: Returns the unordered combinations of length N with unrepeated items from an iterator.\n",
    "\n",
    "* See `itertools` documentation:\n",
    "    * https://docs.python.org/3/library/itertools.html"
   ]
  },
  {
   "cell_type": "markdown",
   "metadata": {},
   "source": [
    "### Things to Remember"
   ]
  },
  {
   "cell_type": "markdown",
   "metadata": {},
   "source": [
    "* Use Python's built-in modules for algoriths and data structures.\n",
    "* Don't reimplement this functionality yourself.  It's hard to get right."
   ]
  },
  {
   "cell_type": "code",
   "execution_count": null,
   "metadata": {},
   "outputs": [],
   "source": []
  }
 ],
 "metadata": {
  "kernelspec": {
   "display_name": "Python 3",
   "language": "python",
   "name": "python3"
  },
  "language_info": {
   "codemirror_mode": {
    "name": "ipython",
    "version": 3
   },
   "file_extension": ".py",
   "mimetype": "text/x-python",
   "name": "python",
   "nbconvert_exporter": "python",
   "pygments_lexer": "ipython3",
   "version": "3.8.2"
  }
 },
 "nbformat": 4,
 "nbformat_minor": 4
}

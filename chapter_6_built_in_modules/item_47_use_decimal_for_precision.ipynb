{
 "cells": [
  {
   "cell_type": "markdown",
   "metadata": {},
   "source": [
    "### Item 47: Use decimal When Precision Is Paramount"
   ]
  },
  {
   "cell_type": "markdown",
   "metadata": {},
   "source": [
    "* Python is an excellent language for writing code that interact with numerical data.\n",
    "* Python's integer type can represent values of any practical size.\n",
    "* Its double-precision floating point type complies with the `IEEE 754` standard.\n",
    "    * See https://en.wikipedia.org/wiki/IEEE_754\n",
    "* The language also provides a standard complex number type for imaginary values.\n",
    "* However, these aren't enough for every situation"
   ]
  },
  {
   "cell_type": "markdown",
   "metadata": {},
   "source": [
    "e.g.\n",
    "* You want to compute the amount to charge a customer for an international phone call.\n",
    "    * The time in minutes and seconds: 3 minutes and 42 seconds\n",
    "    * Set rate for calling Antarctica from the US: $1.45/minutes\n",
    "    * What should the charge be?"
   ]
  },
  {
   "cell_type": "code",
   "execution_count": null,
   "metadata": {},
   "outputs": [],
   "source": [
    "from decimal import Decimal,ROUND_UP"
   ]
  },
  {
   "cell_type": "code",
   "execution_count": null,
   "metadata": {},
   "outputs": [],
   "source": [
    "rate = 1.45\n",
    "seconds = 3 * 60 + 42\n",
    "cost = rate * seconds / 60\n",
    "print(cost)"
   ]
  },
  {
   "cell_type": "markdown",
   "metadata": {},
   "source": [
    "* Problem 1\n",
    "\n",
    "    * Rounding it to the nearest whole cent rounds down when you want it to round up to properly cover all costs incurred by the customer."
   ]
  },
  {
   "cell_type": "code",
   "execution_count": null,
   "metadata": {},
   "outputs": [],
   "source": [
    "print(round(cost, 2))"
   ]
  },
  {
   "cell_type": "markdown",
   "metadata": {},
   "source": [
    "e.g.\n",
    "* You also want to support very short phone calls between places that are much cheaper to connect.\n",
    "    * Compute the charge for a phone call that was 5 seconds long with a rate of $0.05/minute."
   ]
  },
  {
   "cell_type": "code",
   "execution_count": null,
   "metadata": {},
   "outputs": [],
   "source": [
    "rate = 0.05\n",
    "seconds = 5\n",
    "cost = rate * seconds / 60\n",
    "print(cost)"
   ]
  },
  {
   "cell_type": "markdown",
   "metadata": {},
   "source": [
    "* Problem 2\n",
    "    \n",
    "    * The resulting float is so low that it rounds down to zero.  This won't do!"
   ]
  },
  {
   "cell_type": "code",
   "execution_count": null,
   "metadata": {},
   "outputs": [],
   "source": [
    "print(round(cost, 2))"
   ]
  },
  {
   "cell_type": "markdown",
   "metadata": {},
   "source": [
    "* Solution\n",
    "\n",
    "    * The solution is to use the `Decimal` class from the `decimal` built-in module.\n",
    "    * The `Decimal` class provides fixed point math of 28 decimal places by default.\n",
    "    * It can go even higher if required.\n",
    "    * This works around the precision issues in `IEEE 754` floating point numbers.\n",
    "    * The class also gives you more control over rounding behaviors."
   ]
  },
  {
   "cell_type": "markdown",
   "metadata": {},
   "source": [
    "* Redoing the Antarctica calculation with `Decimal` results in an exact charge instead of an approximation."
   ]
  },
  {
   "cell_type": "code",
   "execution_count": null,
   "metadata": {},
   "outputs": [],
   "source": [
    "rate = Decimal('1.45')\n",
    "seconds = Decimal('222')  # 3 * 60 +42\n",
    "cost = rate * seconds / Decimal('60')\n",
    "print(cost)"
   ]
  },
  {
   "cell_type": "markdown",
   "metadata": {},
   "source": [
    "* The `Decimal` class has a built-in function for rounding to exactly the decimal place you need with the rounding behavior you want."
   ]
  },
  {
   "cell_type": "code",
   "execution_count": null,
   "metadata": {},
   "outputs": [],
   "source": [
    "rounded = cost.quantize(Decimal('0.01'), rounding=ROUND_UP)\n",
    "print(rounded)"
   ]
  },
  {
   "cell_type": "markdown",
   "metadata": {},
   "source": [
    "* Using the `quantize` method this way also properly handles the small usage case for short, cheap phone calls.\n",
    "    * Here, you can see the Decimal cost is still less than 1 cent for the call."
   ]
  },
  {
   "cell_type": "code",
   "execution_count": null,
   "metadata": {},
   "outputs": [],
   "source": [
    "rate = Decimal('0.05')\n",
    "seconds = Decimal('5')\n",
    "cost = rate * seconds / Decimal('60')\n",
    "print(cost)"
   ]
  },
  {
   "cell_type": "markdown",
   "metadata": {},
   "source": [
    "* The quantize behavior ensures that this is rounded up to one whole cent."
   ]
  },
  {
   "cell_type": "code",
   "execution_count": null,
   "metadata": {},
   "outputs": [],
   "source": [
    "rounded = cost.quantize(Decimal('0.01'), rounding=ROUND_UP)\n",
    "print(rounded)"
   ]
  },
  {
   "cell_type": "markdown",
   "metadata": {},
   "source": [
    "* While `Decimal` works great for fixed point numbers, it still has limitations in its precision:\n",
    "    \n",
    "    e.g.\n",
    "    * 1/3 will be an approximation\n",
    "    \n",
    "* For representing rational numbers with no limit to precision, consider using the `Fraction` class from the `fractions` built-in module."
   ]
  },
  {
   "cell_type": "markdown",
   "metadata": {},
   "source": [
    "### Things to Remember"
   ]
  },
  {
   "cell_type": "markdown",
   "metadata": {},
   "source": [
    "* Python has built-in types and classes in modules that can represent practically every type of numerical value.\n",
    "* The `Decimal` class is ideal for situations that require high precision and exact rounding behavior, such as computations of monetary values."
   ]
  },
  {
   "cell_type": "code",
   "execution_count": null,
   "metadata": {},
   "outputs": [],
   "source": []
  }
 ],
 "metadata": {
  "kernelspec": {
   "display_name": "Python 3",
   "language": "python",
   "name": "python3"
  },
  "language_info": {
   "codemirror_mode": {
    "name": "ipython",
    "version": 3
   },
   "file_extension": ".py",
   "mimetype": "text/x-python",
   "name": "python",
   "nbconvert_exporter": "python",
   "pygments_lexer": "ipython3",
   "version": "3.8.2"
  }
 },
 "nbformat": 4,
 "nbformat_minor": 4
}

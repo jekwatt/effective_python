{
 "cells": [
  {
   "cell_type": "markdown",
   "metadata": {},
   "source": [
    "### Item 43: Consider contextlib and with Statements for Reusable try/finally Behavior"
   ]
  },
  {
   "cell_type": "markdown",
   "metadata": {},
   "source": [
    "* The `with` statement in Python is used to indecate when code is running in a special context.\n",
    "    e.g.\n",
    "    * Mutual exclusion locks can be used in `with` statement to indicate that the indented code only runs while the lock is held.\n",
    "        * See `Item 38`: Use Lock to Prevent Data Races in Treads"
   ]
  },
  {
   "cell_type": "code",
   "execution_count": null,
   "metadata": {},
   "outputs": [],
   "source": [
    "import logging\n",
    "\n",
    "from contextlib import contextmanager\n",
    "from multiprocessing import Lock"
   ]
  },
  {
   "cell_type": "code",
   "execution_count": null,
   "metadata": {},
   "outputs": [],
   "source": [
    "lock = Lock()"
   ]
  },
  {
   "cell_type": "code",
   "execution_count": null,
   "metadata": {},
   "outputs": [],
   "source": [
    "with lock:\n",
    "    print('Lock is held')"
   ]
  },
  {
   "cell_type": "markdown",
   "metadata": {},
   "source": [
    "* The example above is equivalent to this `try/finally` construction.\n",
    "* The `Lock` class properly enables the `with` statement."
   ]
  },
  {
   "cell_type": "code",
   "execution_count": null,
   "metadata": {},
   "outputs": [],
   "source": [
    "lock.acquire()\n",
    "try:\n",
    "    print(\"Lock is held\")\n",
    "finally:\n",
    "    lock.release()"
   ]
  },
  {
   "cell_type": "markdown",
   "metadata": {},
   "source": [
    "* The `with` statement version of this is better.\n",
    "    * It eliminates the need to write the repetitive code of the `try/finally` construction.\n",
    "* Using the `contextlib` built-in module makes your objects and functions capable of use in `with` statement.\n",
    "    * This module contains the `contextmanager` decorator, which lets a simple function be used in `with` statements.\n",
    "    * This is much easier than defining a new class with the special methods `__enter__` and `__exit__` (standard way)."
   ]
  },
  {
   "cell_type": "markdown",
   "metadata": {},
   "source": [
    "* Define a function that does logging at two severity levels."
   ]
  },
  {
   "cell_type": "code",
   "execution_count": null,
   "metadata": {},
   "outputs": [],
   "source": [
    "def my_function():\n",
    "    logging.debug(\"Some debug data\")\n",
    "    logging.error(\"Error log here\")\n",
    "    logging.debug(\"More debug data\")"
   ]
  },
  {
   "cell_type": "markdown",
   "metadata": {},
   "source": [
    "* The default log lovel for my program is `WARNING`, so only the `error` message will print to screen when I run the function."
   ]
  },
  {
   "cell_type": "code",
   "execution_count": null,
   "metadata": {},
   "outputs": [],
   "source": [
    "my_function()"
   ]
  },
  {
   "cell_type": "markdown",
   "metadata": {},
   "source": [
    "* I can elevate the log level of this function temporarily by defining a `context manager`.\n",
    "* This helper function boosts the `logging` severity level before running the code in the `with` block and reduces the `logging` severity livel afterward."
   ]
  },
  {
   "cell_type": "code",
   "execution_count": null,
   "metadata": {},
   "outputs": [],
   "source": [
    "@contextmanager\n",
    "def debug_logging(level):\n",
    "    logger = logging.getLogger()\n",
    "    old_level = logger.getEffectiveLevel()\n",
    "    logger.setLevel(level)\n",
    "    try:\n",
    "        yield\n",
    "    finally:\n",
    "        logger.setLevel(old_level)"
   ]
  },
  {
   "cell_type": "markdown",
   "metadata": {},
   "source": [
    "* The `yield` expression is the point at which the `with` block's contents will execute.\n",
    "* Any exceptions that happen in the `with` block will be re-raised by the `yield` expression for you to catch in the helper function.\n",
    "    * See `Item 40`: Consider Coroutines to Run Many Functions Concurrently (for an explanation of how that works)"
   ]
  },
  {
   "cell_type": "markdown",
   "metadata": {},
   "source": [
    "* Now, I can call the same logging function again, but in the `debug_logging` context.\n",
    "* This time, all of the debug messages are printed to the screen during the `with` block.\n",
    "* The same function running outside the `with` block won't print debug messages."
   ]
  },
  {
   "cell_type": "code",
   "execution_count": null,
   "metadata": {},
   "outputs": [],
   "source": [
    "with debug_logging(logging.DEBUG):\n",
    "    print('Inside:')\n",
    "    my_function()\n",
    "print('After:')\n",
    "my_function()"
   ]
  },
  {
   "cell_type": "markdown",
   "metadata": {},
   "source": [
    "#### Using with Targets"
   ]
  },
  {
   "cell_type": "markdown",
   "metadata": {},
   "source": [
    "* The context manager passed to a `with` statement also return an object.\n",
    "* This object is assigned to a local variable in the as part of the compound statement.\n",
    "* This gives the code running in the `with` block the ability to directly interact with its context."
   ]
  },
  {
   "cell_type": "markdown",
   "metadata": {},
   "source": [
    "* You want to write a file and ensure that it's always closed correctly.\n",
    "    * By passing `open` to the `with` statement.\n",
    "    * `open` returns a file handle for the `as` target of `with` and will close the handle when the `with` block exists."
   ]
  },
  {
   "cell_type": "code",
   "execution_count": null,
   "metadata": {},
   "outputs": [],
   "source": [
    "from pathlib import Path\n",
    "\n",
    "out = Path.cwd() / 'out'"
   ]
  },
  {
   "cell_type": "code",
   "execution_count": null,
   "metadata": {},
   "outputs": [],
   "source": [
    "out.exists()"
   ]
  },
  {
   "cell_type": "code",
   "execution_count": null,
   "metadata": {},
   "outputs": [],
   "source": [
    "out.mkdir(parents=True, exist_ok=True)"
   ]
  },
  {
   "cell_type": "code",
   "execution_count": null,
   "metadata": {},
   "outputs": [],
   "source": [
    "out.exists()"
   ]
  },
  {
   "cell_type": "code",
   "execution_count": null,
   "metadata": {},
   "outputs": [],
   "source": [
    "output_file = out / 'my_output.txt'\n",
    "\n",
    "with open(output_file, 'w') as handle:\n",
    "    handle.write(\"This is some data\")"
   ]
  },
  {
   "cell_type": "code",
   "execution_count": null,
   "metadata": {},
   "outputs": [],
   "source": [
    "ls out"
   ]
  },
  {
   "cell_type": "markdown",
   "metadata": {},
   "source": [
    "* This approach is preferable to manually opening and closing the file handle every time.\n",
    "* It gives you confidence that the file is eventually closed when execution leaves the `with` statement.\n",
    "* This is good practice in general!"
   ]
  },
  {
   "cell_type": "markdown",
   "metadata": {},
   "source": [
    "* To enable your own functions to supply values for `as` targets, all you need to do is `yield` a value from your context manager."
   ]
  },
  {
   "cell_type": "code",
   "execution_count": null,
   "metadata": {},
   "outputs": [],
   "source": [
    "import logging\n",
    "\n",
    "@contextmanager\n",
    "def log_level(level, name):\n",
    "    logger = logging.getLogger(name)\n",
    "    old_level = logger.getEffectiveLevel()\n",
    "    logger.setLevel(level)\n",
    "    try:\n",
    "        yield logger\n",
    "    finally:\n",
    "        logger.setLevel(old_level)"
   ]
  },
  {
   "cell_type": "markdown",
   "metadata": {},
   "source": [
    "* Calling logging methods like `debug` on the `as` target will produce output because the logging severity level is set low enough in the `with` block.\n",
    "* Using the `logging` module directly won't print anything because logging severity level for the default program logging is `WARNING`."
   ]
  },
  {
   "cell_type": "code",
   "execution_count": null,
   "metadata": {},
   "outputs": [],
   "source": [
    "with log_level(logging.DEBUG, 'my-log') as logger:\n",
    "    logger.debug(\"This is my message\")\n",
    "    logging.debug(\"This will not print\")"
   ]
  },
  {
   "cell_type": "markdown",
   "metadata": {},
   "source": [
    "* After the `with` statement exists, calling debug logging methods on the `Logger` named 'my-log' will not print anything because the default logging severity level has been restored.\n",
    "* Error logging messages will always print."
   ]
  },
  {
   "cell_type": "code",
   "execution_count": null,
   "metadata": {},
   "outputs": [],
   "source": [
    "logger = logging.getLogger('my-log')\n",
    "logger.debug(\"Debug will not print\")\n",
    "logger.error(\"Error will print\")"
   ]
  },
  {
   "cell_type": "markdown",
   "metadata": {},
   "source": [
    "### Things to Remember"
   ]
  },
  {
   "cell_type": "markdown",
   "metadata": {},
   "source": [
    "* The `with` statement allows you to reuse logic from `try/finally` blocks and reduce visual noise.\n",
    "* The `contextlib` built-in module provides a `contextmanager` decorator that makes it easy to use your own functions in `with` statements.\n",
    "* The value yielded by context managers is supplied to the `as` part of the `with` statement.\n",
    "* It's useful for letting your code directly access the cause of the special context."
   ]
  },
  {
   "cell_type": "code",
   "execution_count": null,
   "metadata": {},
   "outputs": [],
   "source": []
  }
 ],
 "metadata": {
  "kernelspec": {
   "display_name": "Python 3",
   "language": "python",
   "name": "python3"
  },
  "language_info": {
   "codemirror_mode": {
    "name": "ipython",
    "version": 3
   },
   "file_extension": ".py",
   "mimetype": "text/x-python",
   "name": "python",
   "nbconvert_exporter": "python",
   "pygments_lexer": "ipython3",
   "version": "3.8.2"
  }
 },
 "nbformat": 4,
 "nbformat_minor": 4
}
